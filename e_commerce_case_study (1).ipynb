{
  "nbformat": 4,
  "nbformat_minor": 0,
  "metadata": {
    "kernelspec": {
      "language": "python",
      "display_name": "Python 3",
      "name": "python3"
    },
    "language_info": {
      "pygments_lexer": "ipython3",
      "nbconvert_exporter": "python",
      "version": "3.6.4",
      "file_extension": ".py",
      "codemirror_mode": {
        "name": "ipython",
        "version": 3
      },
      "name": "python",
      "mimetype": "text/x-python"
    },
    "colab": {
      "name": "e-commerce-case-study.ipynb",
      "provenance": [],
      "collapsed_sections": [
        "-d4tQlIW_U2H",
        "qjVvfws7_U2O"
      ],
      "toc_visible": true
    }
  },
  "cells": [
    {
      "cell_type": "markdown",
      "metadata": {
        "id": "QAk0orkN_U1v"
      },
      "source": [
        "#  Case study"
      ]
    },
    {
      "cell_type": "markdown",
      "metadata": {
        "id": "KZCd0NU5_U1x"
      },
      "source": [
        "During the COVID-19 pandemic in 2020, the total sales increase in e-commerce increased by 37% in **India**. Due to increasingly fierce competition between competitors, you and your Product Manager are in discussion regarding how to stay afloat and compete in the e-commerce industry. After that, you decide to make an innovation or offer so that users will still choose you as their online shopping media.\n",
        "\n",
        "For that, you are assigned to perform transaction-related analysis of user data. However, the problem is that the company is doing efficiency in terms of managing promotional funds in 2021. As a data analyst, what insights and recommendations can you give to the company?"
      ]
    },
    {
      "cell_type": "markdown",
      "metadata": {
        "id": "xvJWmzku_U1y"
      },
      "source": [
        "**Objectives:** \n",
        "* user acqusition & user retention through new program or offer\n",
        "    1. how new user use and get to know ecom\n",
        "    2. how to keep new user and old user stay\n",
        "\n",
        "**Approach:**\n",
        "* Data deep dive to know our customer more and then we go from there"
      ]
    },
    {
      "cell_type": "code",
      "metadata": {
        "_uuid": "8f2839f25d086af736a60e9eeb907d3b93b6e0e5",
        "_cell_guid": "b1076dfc-b9ad-4769-8c92-a6c4dae69d19",
        "trusted": true,
        "_kg_hide-input": true,
        "id": "D5c-x3VT_U1y"
      },
      "source": [
        "\n",
        "import numpy as np # linear algebra\n",
        "import pandas as pd # data processing, CSV file I/O (e.g. pd.read_csv)\n",
        "import datetime\n",
        "import seaborn as sns\n",
        "import matplotlib.pyplot as plt\n",
        "\n",
        "pd.set_option('display.max_rows', 10000)\n",
        "pd.set_option('display.max_columns', 100)\n",
        "\n",
        "# You can write up to 20GB to the current directory (/kaggle/working/) that gets preserved as output when you create a version using \"Save & Run All\" \n",
        "# You can also write temporary files to /kaggle/temp/, but they won't be saved outside of the current session"
      ],
      "execution_count": null,
      "outputs": []
    },
    {
      "cell_type": "code",
      "metadata": {
        "trusted": true,
        "id": "jbWBWXZD_U1y"
      },
      "source": [
        "path = \"/content/data.csv\""
      ],
      "execution_count": null,
      "outputs": []
    },
    {
      "cell_type": "code",
      "metadata": {
        "trusted": true,
        "id": "3Th8drwQ_U1z"
      },
      "source": [
        "df = pd.read_csv(path,header= 0,encoding=\"ISO-8859-1\", dtype = {'CustomerID': str,'InvoiceID': str})"
      ],
      "execution_count": null,
      "outputs": []
    },
    {
      "cell_type": "code",
      "metadata": {
        "trusted": true,
        "colab": {
          "base_uri": "https://localhost:8080/",
          "height": 289
        },
        "id": "x7qKcHeC_U1z",
        "outputId": "13657c38-0198-41cb-b854-d74b4a8a6da2"
      },
      "source": [
        "df_clean = df.copy()\n",
        "df.head()"
      ],
      "execution_count": null,
      "outputs": [
        {
          "output_type": "execute_result",
          "data": {
            "text/html": [
              "<div>\n",
              "<style scoped>\n",
              "    .dataframe tbody tr th:only-of-type {\n",
              "        vertical-align: middle;\n",
              "    }\n",
              "\n",
              "    .dataframe tbody tr th {\n",
              "        vertical-align: top;\n",
              "    }\n",
              "\n",
              "    .dataframe thead th {\n",
              "        text-align: right;\n",
              "    }\n",
              "</style>\n",
              "<table border=\"1\" class=\"dataframe\">\n",
              "  <thead>\n",
              "    <tr style=\"text-align: right;\">\n",
              "      <th></th>\n",
              "      <th>InvoiceNo</th>\n",
              "      <th>StockCode</th>\n",
              "      <th>Description</th>\n",
              "      <th>Quantity</th>\n",
              "      <th>InvoiceDate</th>\n",
              "      <th>UnitPrice</th>\n",
              "      <th>CustomerID</th>\n",
              "      <th>Country</th>\n",
              "    </tr>\n",
              "  </thead>\n",
              "  <tbody>\n",
              "    <tr>\n",
              "      <th>0</th>\n",
              "      <td>536365</td>\n",
              "      <td>85123A</td>\n",
              "      <td>WHITE HANGING HEART T-LIGHT HOLDER</td>\n",
              "      <td>6</td>\n",
              "      <td>12/1/2010 8:26</td>\n",
              "      <td>2.55</td>\n",
              "      <td>17850</td>\n",
              "      <td>United Kingdom</td>\n",
              "    </tr>\n",
              "    <tr>\n",
              "      <th>1</th>\n",
              "      <td>536365</td>\n",
              "      <td>71053</td>\n",
              "      <td>WHITE METAL LANTERN</td>\n",
              "      <td>6</td>\n",
              "      <td>12/1/2010 8:26</td>\n",
              "      <td>3.39</td>\n",
              "      <td>17850</td>\n",
              "      <td>United Kingdom</td>\n",
              "    </tr>\n",
              "    <tr>\n",
              "      <th>2</th>\n",
              "      <td>536365</td>\n",
              "      <td>84406B</td>\n",
              "      <td>CREAM CUPID HEARTS COAT HANGER</td>\n",
              "      <td>8</td>\n",
              "      <td>12/1/2010 8:26</td>\n",
              "      <td>2.75</td>\n",
              "      <td>17850</td>\n",
              "      <td>United Kingdom</td>\n",
              "    </tr>\n",
              "    <tr>\n",
              "      <th>3</th>\n",
              "      <td>536365</td>\n",
              "      <td>84029G</td>\n",
              "      <td>KNITTED UNION FLAG HOT WATER BOTTLE</td>\n",
              "      <td>6</td>\n",
              "      <td>12/1/2010 8:26</td>\n",
              "      <td>3.39</td>\n",
              "      <td>17850</td>\n",
              "      <td>United Kingdom</td>\n",
              "    </tr>\n",
              "    <tr>\n",
              "      <th>4</th>\n",
              "      <td>536365</td>\n",
              "      <td>84029E</td>\n",
              "      <td>RED WOOLLY HOTTIE WHITE HEART.</td>\n",
              "      <td>6</td>\n",
              "      <td>12/1/2010 8:26</td>\n",
              "      <td>3.39</td>\n",
              "      <td>17850</td>\n",
              "      <td>United Kingdom</td>\n",
              "    </tr>\n",
              "  </tbody>\n",
              "</table>\n",
              "</div>"
            ],
            "text/plain": [
              "  InvoiceNo StockCode                          Description  Quantity  \\\n",
              "0    536365    85123A   WHITE HANGING HEART T-LIGHT HOLDER         6   \n",
              "1    536365     71053                  WHITE METAL LANTERN         6   \n",
              "2    536365    84406B       CREAM CUPID HEARTS COAT HANGER         8   \n",
              "3    536365    84029G  KNITTED UNION FLAG HOT WATER BOTTLE         6   \n",
              "4    536365    84029E       RED WOOLLY HOTTIE WHITE HEART.         6   \n",
              "\n",
              "      InvoiceDate  UnitPrice CustomerID         Country  \n",
              "0  12/1/2010 8:26       2.55      17850  United Kingdom  \n",
              "1  12/1/2010 8:26       3.39      17850  United Kingdom  \n",
              "2  12/1/2010 8:26       2.75      17850  United Kingdom  \n",
              "3  12/1/2010 8:26       3.39      17850  United Kingdom  \n",
              "4  12/1/2010 8:26       3.39      17850  United Kingdom  "
            ]
          },
          "metadata": {
            "tags": []
          },
          "execution_count": 105
        }
      ]
    },
    {
      "cell_type": "markdown",
      "metadata": {
        "id": "U4jA1gD__U1z"
      },
      "source": [
        "# **Cleaning**"
      ]
    },
    {
      "cell_type": "code",
      "metadata": {
        "trusted": true,
        "colab": {
          "base_uri": "https://localhost:8080/",
          "height": 272
        },
        "id": "x_JOmg6V_U10",
        "outputId": "4bbf7724-b98c-44d3-c72d-82126d9630a2"
      },
      "source": [
        "df.tail()"
      ],
      "execution_count": null,
      "outputs": [
        {
          "output_type": "execute_result",
          "data": {
            "text/html": [
              "<div>\n",
              "<style scoped>\n",
              "    .dataframe tbody tr th:only-of-type {\n",
              "        vertical-align: middle;\n",
              "    }\n",
              "\n",
              "    .dataframe tbody tr th {\n",
              "        vertical-align: top;\n",
              "    }\n",
              "\n",
              "    .dataframe thead th {\n",
              "        text-align: right;\n",
              "    }\n",
              "</style>\n",
              "<table border=\"1\" class=\"dataframe\">\n",
              "  <thead>\n",
              "    <tr style=\"text-align: right;\">\n",
              "      <th></th>\n",
              "      <th>InvoiceNo</th>\n",
              "      <th>StockCode</th>\n",
              "      <th>Description</th>\n",
              "      <th>Quantity</th>\n",
              "      <th>InvoiceDate</th>\n",
              "      <th>UnitPrice</th>\n",
              "      <th>CustomerID</th>\n",
              "      <th>Country</th>\n",
              "    </tr>\n",
              "  </thead>\n",
              "  <tbody>\n",
              "    <tr>\n",
              "      <th>338919</th>\n",
              "      <td>566571</td>\n",
              "      <td>23390</td>\n",
              "      <td>DOLLY GIRL MINI BACKPACK</td>\n",
              "      <td>4.0</td>\n",
              "      <td>9/13/2011 12:49</td>\n",
              "      <td>4.15</td>\n",
              "      <td>17037</td>\n",
              "      <td>United Kingdom</td>\n",
              "    </tr>\n",
              "    <tr>\n",
              "      <th>338920</th>\n",
              "      <td>566571</td>\n",
              "      <td>22949</td>\n",
              "      <td>36 DOILIES DOLLY GIRL</td>\n",
              "      <td>12.0</td>\n",
              "      <td>9/13/2011 12:49</td>\n",
              "      <td>1.45</td>\n",
              "      <td>17037</td>\n",
              "      <td>United Kingdom</td>\n",
              "    </tr>\n",
              "    <tr>\n",
              "      <th>338921</th>\n",
              "      <td>566571</td>\n",
              "      <td>22138</td>\n",
              "      <td>BAKING SET 9 PIECE RETROSPOT</td>\n",
              "      <td>3.0</td>\n",
              "      <td>9/13/2011 12:49</td>\n",
              "      <td>4.95</td>\n",
              "      <td>17037</td>\n",
              "      <td>United Kingdom</td>\n",
              "    </tr>\n",
              "    <tr>\n",
              "      <th>338922</th>\n",
              "      <td>566571</td>\n",
              "      <td>23203</td>\n",
              "      <td>JUMBO BAG VINTAGE DOILY</td>\n",
              "      <td>10.0</td>\n",
              "      <td>9/13/2011 12:49</td>\n",
              "      <td>2.08</td>\n",
              "      <td>17037</td>\n",
              "      <td>United Kingdom</td>\n",
              "    </tr>\n",
              "    <tr>\n",
              "      <th>338923</th>\n",
              "      <td>566571</td>\n",
              "      <td>21931</td>\n",
              "      <td>J</td>\n",
              "      <td>NaN</td>\n",
              "      <td>NaN</td>\n",
              "      <td>NaN</td>\n",
              "      <td>NaN</td>\n",
              "      <td>NaN</td>\n",
              "    </tr>\n",
              "  </tbody>\n",
              "</table>\n",
              "</div>"
            ],
            "text/plain": [
              "       InvoiceNo StockCode                    Description  Quantity  \\\n",
              "338919    566571     23390       DOLLY GIRL MINI BACKPACK       4.0   \n",
              "338920    566571     22949          36 DOILIES DOLLY GIRL      12.0   \n",
              "338921    566571     22138  BAKING SET 9 PIECE RETROSPOT        3.0   \n",
              "338922    566571     23203       JUMBO BAG VINTAGE DOILY       10.0   \n",
              "338923    566571     21931                              J       NaN   \n",
              "\n",
              "            InvoiceDate  UnitPrice CustomerID         Country  \n",
              "338919  9/13/2011 12:49       4.15      17037  United Kingdom  \n",
              "338920  9/13/2011 12:49       1.45      17037  United Kingdom  \n",
              "338921  9/13/2011 12:49       4.95      17037  United Kingdom  \n",
              "338922  9/13/2011 12:49       2.08      17037  United Kingdom  \n",
              "338923              NaN        NaN        NaN             NaN  "
            ]
          },
          "metadata": {
            "tags": []
          },
          "execution_count": 10
        }
      ]
    },
    {
      "cell_type": "code",
      "metadata": {
        "trusted": true,
        "id": "qpUcj6L5_U10"
      },
      "source": [
        "df_clean['InvoiceDate'] = pd.to_datetime(df_clean['InvoiceDate'])"
      ],
      "execution_count": null,
      "outputs": []
    },
    {
      "cell_type": "code",
      "metadata": {
        "trusted": true,
        "colab": {
          "base_uri": "https://localhost:8080/",
          "height": 289
        },
        "id": "9bY3V2hb_U10",
        "outputId": "cb63077a-368a-436c-d6b8-c2f15e57f369"
      },
      "source": [
        "df_clean.InvoiceDate = df_clean.InvoiceDate.astype(str)\n",
        "df_clean.head()"
      ],
      "execution_count": null,
      "outputs": [
        {
          "output_type": "execute_result",
          "data": {
            "text/html": [
              "<div>\n",
              "<style scoped>\n",
              "    .dataframe tbody tr th:only-of-type {\n",
              "        vertical-align: middle;\n",
              "    }\n",
              "\n",
              "    .dataframe tbody tr th {\n",
              "        vertical-align: top;\n",
              "    }\n",
              "\n",
              "    .dataframe thead th {\n",
              "        text-align: right;\n",
              "    }\n",
              "</style>\n",
              "<table border=\"1\" class=\"dataframe\">\n",
              "  <thead>\n",
              "    <tr style=\"text-align: right;\">\n",
              "      <th></th>\n",
              "      <th>InvoiceNo</th>\n",
              "      <th>StockCode</th>\n",
              "      <th>Description</th>\n",
              "      <th>Quantity</th>\n",
              "      <th>InvoiceDate</th>\n",
              "      <th>UnitPrice</th>\n",
              "      <th>CustomerID</th>\n",
              "      <th>Country</th>\n",
              "    </tr>\n",
              "  </thead>\n",
              "  <tbody>\n",
              "    <tr>\n",
              "      <th>0</th>\n",
              "      <td>536365</td>\n",
              "      <td>85123A</td>\n",
              "      <td>WHITE HANGING HEART T-LIGHT HOLDER</td>\n",
              "      <td>6.0</td>\n",
              "      <td>12/1/2010 8:26</td>\n",
              "      <td>2.55</td>\n",
              "      <td>17850</td>\n",
              "      <td>United Kingdom</td>\n",
              "    </tr>\n",
              "    <tr>\n",
              "      <th>1</th>\n",
              "      <td>536365</td>\n",
              "      <td>71053</td>\n",
              "      <td>WHITE METAL LANTERN</td>\n",
              "      <td>6.0</td>\n",
              "      <td>12/1/2010 8:26</td>\n",
              "      <td>3.39</td>\n",
              "      <td>17850</td>\n",
              "      <td>United Kingdom</td>\n",
              "    </tr>\n",
              "    <tr>\n",
              "      <th>2</th>\n",
              "      <td>536365</td>\n",
              "      <td>84406B</td>\n",
              "      <td>CREAM CUPID HEARTS COAT HANGER</td>\n",
              "      <td>8.0</td>\n",
              "      <td>12/1/2010 8:26</td>\n",
              "      <td>2.75</td>\n",
              "      <td>17850</td>\n",
              "      <td>United Kingdom</td>\n",
              "    </tr>\n",
              "    <tr>\n",
              "      <th>3</th>\n",
              "      <td>536365</td>\n",
              "      <td>84029G</td>\n",
              "      <td>KNITTED UNION FLAG HOT WATER BOTTLE</td>\n",
              "      <td>6.0</td>\n",
              "      <td>12/1/2010 8:26</td>\n",
              "      <td>3.39</td>\n",
              "      <td>17850</td>\n",
              "      <td>United Kingdom</td>\n",
              "    </tr>\n",
              "    <tr>\n",
              "      <th>4</th>\n",
              "      <td>536365</td>\n",
              "      <td>84029E</td>\n",
              "      <td>RED WOOLLY HOTTIE WHITE HEART.</td>\n",
              "      <td>6.0</td>\n",
              "      <td>12/1/2010 8:26</td>\n",
              "      <td>3.39</td>\n",
              "      <td>17850</td>\n",
              "      <td>United Kingdom</td>\n",
              "    </tr>\n",
              "  </tbody>\n",
              "</table>\n",
              "</div>"
            ],
            "text/plain": [
              "  InvoiceNo StockCode                          Description  Quantity  \\\n",
              "0    536365    85123A   WHITE HANGING HEART T-LIGHT HOLDER       6.0   \n",
              "1    536365     71053                  WHITE METAL LANTERN       6.0   \n",
              "2    536365    84406B       CREAM CUPID HEARTS COAT HANGER       8.0   \n",
              "3    536365    84029G  KNITTED UNION FLAG HOT WATER BOTTLE       6.0   \n",
              "4    536365    84029E       RED WOOLLY HOTTIE WHITE HEART.       6.0   \n",
              "\n",
              "      InvoiceDate  UnitPrice CustomerID         Country  \n",
              "0  12/1/2010 8:26       2.55      17850  United Kingdom  \n",
              "1  12/1/2010 8:26       3.39      17850  United Kingdom  \n",
              "2  12/1/2010 8:26       2.75      17850  United Kingdom  \n",
              "3  12/1/2010 8:26       3.39      17850  United Kingdom  \n",
              "4  12/1/2010 8:26       3.39      17850  United Kingdom  "
            ]
          },
          "metadata": {
            "tags": []
          },
          "execution_count": 11
        }
      ]
    },
    {
      "cell_type": "markdown",
      "metadata": {
        "id": "ZVE35DVu_U11"
      },
      "source": [
        "For this case purpose, change the year and month so the data we have ranging from January 2020 to December 2020"
      ]
    },
    {
      "cell_type": "code",
      "metadata": {
        "trusted": true,
        "id": "CqTykzxE_U11"
      },
      "source": [
        "df_clean['InvoiceDate'] = df_clean['InvoiceDate'].apply(lambda x: x.replace('2011','2020'))\n",
        "df_clean = df_clean[~df_clean.InvoiceDate.str.contains('2010')]\n",
        "df_clean['InvoiceDate'] = pd.to_datetime(df_clean['InvoiceDate'])"
      ],
      "execution_count": null,
      "outputs": []
    },
    {
      "cell_type": "markdown",
      "metadata": {
        "id": "exhOSMSH_U11"
      },
      "source": [
        "Remove country as we assume all is in Indonesia"
      ]
    },
    {
      "cell_type": "code",
      "metadata": {
        "trusted": true,
        "id": "LlDtUSJS_U11"
      },
      "source": [
        "df_clean = df_clean.drop(columns = 'Country')\n",
        "df_clean = df_clean.reset_index(drop=True)"
      ],
      "execution_count": null,
      "outputs": []
    },
    {
      "cell_type": "code",
      "metadata": {
        "trusted": true,
        "colab": {
          "base_uri": "https://localhost:8080/",
          "height": 204
        },
        "id": "5HpVe_B-_U11",
        "outputId": "0cee5513-ec96-432f-8cf1-74627547269f"
      },
      "source": [
        "df_clean.head()"
      ],
      "execution_count": null,
      "outputs": [
        {
          "output_type": "execute_result",
          "data": {
            "text/html": [
              "<div>\n",
              "<style scoped>\n",
              "    .dataframe tbody tr th:only-of-type {\n",
              "        vertical-align: middle;\n",
              "    }\n",
              "\n",
              "    .dataframe tbody tr th {\n",
              "        vertical-align: top;\n",
              "    }\n",
              "\n",
              "    .dataframe thead th {\n",
              "        text-align: right;\n",
              "    }\n",
              "</style>\n",
              "<table border=\"1\" class=\"dataframe\">\n",
              "  <thead>\n",
              "    <tr style=\"text-align: right;\">\n",
              "      <th></th>\n",
              "      <th>InvoiceNo</th>\n",
              "      <th>StockCode</th>\n",
              "      <th>Description</th>\n",
              "      <th>Quantity</th>\n",
              "      <th>InvoiceDate</th>\n",
              "      <th>UnitPrice</th>\n",
              "      <th>CustomerID</th>\n",
              "    </tr>\n",
              "  </thead>\n",
              "  <tbody>\n",
              "    <tr>\n",
              "      <th>0</th>\n",
              "      <td>539993</td>\n",
              "      <td>22386</td>\n",
              "      <td>JUMBO BAG PINK POLKADOT</td>\n",
              "      <td>10.0</td>\n",
              "      <td>2020-01-04 10:00:00</td>\n",
              "      <td>1.95</td>\n",
              "      <td>13313</td>\n",
              "    </tr>\n",
              "    <tr>\n",
              "      <th>1</th>\n",
              "      <td>539993</td>\n",
              "      <td>21499</td>\n",
              "      <td>BLUE POLKADOT WRAP</td>\n",
              "      <td>25.0</td>\n",
              "      <td>2020-01-04 10:00:00</td>\n",
              "      <td>0.42</td>\n",
              "      <td>13313</td>\n",
              "    </tr>\n",
              "    <tr>\n",
              "      <th>2</th>\n",
              "      <td>539993</td>\n",
              "      <td>21498</td>\n",
              "      <td>RED RETROSPOT WRAP</td>\n",
              "      <td>25.0</td>\n",
              "      <td>2020-01-04 10:00:00</td>\n",
              "      <td>0.42</td>\n",
              "      <td>13313</td>\n",
              "    </tr>\n",
              "    <tr>\n",
              "      <th>3</th>\n",
              "      <td>539993</td>\n",
              "      <td>22379</td>\n",
              "      <td>RECYCLING BAG RETROSPOT</td>\n",
              "      <td>5.0</td>\n",
              "      <td>2020-01-04 10:00:00</td>\n",
              "      <td>2.10</td>\n",
              "      <td>13313</td>\n",
              "    </tr>\n",
              "    <tr>\n",
              "      <th>4</th>\n",
              "      <td>539993</td>\n",
              "      <td>20718</td>\n",
              "      <td>RED RETROSPOT SHOPPER BAG</td>\n",
              "      <td>10.0</td>\n",
              "      <td>2020-01-04 10:00:00</td>\n",
              "      <td>1.25</td>\n",
              "      <td>13313</td>\n",
              "    </tr>\n",
              "  </tbody>\n",
              "</table>\n",
              "</div>"
            ],
            "text/plain": [
              "  InvoiceNo StockCode                Description  Quantity  \\\n",
              "0    539993     22386    JUMBO BAG PINK POLKADOT      10.0   \n",
              "1    539993     21499         BLUE POLKADOT WRAP      25.0   \n",
              "2    539993     21498        RED RETROSPOT WRAP       25.0   \n",
              "3    539993     22379   RECYCLING BAG RETROSPOT        5.0   \n",
              "4    539993     20718  RED RETROSPOT SHOPPER BAG      10.0   \n",
              "\n",
              "          InvoiceDate  UnitPrice CustomerID  \n",
              "0 2020-01-04 10:00:00       1.95      13313  \n",
              "1 2020-01-04 10:00:00       0.42      13313  \n",
              "2 2020-01-04 10:00:00       0.42      13313  \n",
              "3 2020-01-04 10:00:00       2.10      13313  \n",
              "4 2020-01-04 10:00:00       1.25      13313  "
            ]
          },
          "metadata": {
            "tags": []
          },
          "execution_count": 14
        }
      ]
    },
    {
      "cell_type": "markdown",
      "metadata": {
        "id": "1Fm-1vgK_U12"
      },
      "source": [
        "check the % of missing value to get a glimpse"
      ]
    },
    {
      "cell_type": "code",
      "metadata": {
        "trusted": true,
        "colab": {
          "base_uri": "https://localhost:8080/"
        },
        "id": "oycXyAq0_U12",
        "outputId": "d776ea6c-3519-4887-ea7a-9b2fdba14996"
      },
      "source": [
        "missing_percentage = df_clean.isnull().sum() / df_clean.shape[0] * 100\n",
        "missing_percentage"
      ],
      "execution_count": null,
      "outputs": [
        {
          "output_type": "execute_result",
          "data": {
            "text/plain": [
              "InvoiceNo       0.000000\n",
              "StockCode       0.000000\n",
              "Description     0.357573\n",
              "Quantity        0.000337\n",
              "InvoiceDate     0.000337\n",
              "UnitPrice       0.000337\n",
              "CustomerID     25.827899\n",
              "dtype: float64"
            ]
          },
          "metadata": {
            "tags": []
          },
          "execution_count": 15
        }
      ]
    },
    {
      "cell_type": "markdown",
      "metadata": {
        "id": "nDfsJKi0_U12"
      },
      "source": [
        "check the number of null value in description"
      ]
    },
    {
      "cell_type": "code",
      "metadata": {
        "trusted": true,
        "colab": {
          "base_uri": "https://localhost:8080/",
          "height": 204
        },
        "id": "dkreiJtF_U12",
        "outputId": "cb83e8f4-bd0d-444e-dd1b-14670e2b50cb"
      },
      "source": [
        "df_clean[df_clean['Description'].isnull()].head()"
      ],
      "execution_count": null,
      "outputs": [
        {
          "output_type": "execute_result",
          "data": {
            "text/html": [
              "<div>\n",
              "<style scoped>\n",
              "    .dataframe tbody tr th:only-of-type {\n",
              "        vertical-align: middle;\n",
              "    }\n",
              "\n",
              "    .dataframe tbody tr th {\n",
              "        vertical-align: top;\n",
              "    }\n",
              "\n",
              "    .dataframe thead th {\n",
              "        text-align: right;\n",
              "    }\n",
              "</style>\n",
              "<table border=\"1\" class=\"dataframe\">\n",
              "  <thead>\n",
              "    <tr style=\"text-align: right;\">\n",
              "      <th></th>\n",
              "      <th>InvoiceNo</th>\n",
              "      <th>StockCode</th>\n",
              "      <th>Description</th>\n",
              "      <th>Quantity</th>\n",
              "      <th>InvoiceDate</th>\n",
              "      <th>UnitPrice</th>\n",
              "      <th>CustomerID</th>\n",
              "    </tr>\n",
              "  </thead>\n",
              "  <tbody>\n",
              "    <tr>\n",
              "      <th>17</th>\n",
              "      <td>539994</td>\n",
              "      <td>22830</td>\n",
              "      <td>NaN</td>\n",
              "      <td>-1.0</td>\n",
              "      <td>2020-01-04 10:09:00</td>\n",
              "      <td>0.0</td>\n",
              "      <td>NaN</td>\n",
              "    </tr>\n",
              "    <tr>\n",
              "      <th>18</th>\n",
              "      <td>539995</td>\n",
              "      <td>85064</td>\n",
              "      <td>NaN</td>\n",
              "      <td>-12.0</td>\n",
              "      <td>2020-01-04 10:12:00</td>\n",
              "      <td>0.0</td>\n",
              "      <td>NaN</td>\n",
              "    </tr>\n",
              "    <tr>\n",
              "      <th>19</th>\n",
              "      <td>539996</td>\n",
              "      <td>21784</td>\n",
              "      <td>NaN</td>\n",
              "      <td>-10.0</td>\n",
              "      <td>2020-01-04 10:12:00</td>\n",
              "      <td>0.0</td>\n",
              "      <td>NaN</td>\n",
              "    </tr>\n",
              "    <tr>\n",
              "      <th>20</th>\n",
              "      <td>539997</td>\n",
              "      <td>84689</td>\n",
              "      <td>NaN</td>\n",
              "      <td>5.0</td>\n",
              "      <td>2020-01-04 10:15:00</td>\n",
              "      <td>0.0</td>\n",
              "      <td>NaN</td>\n",
              "    </tr>\n",
              "    <tr>\n",
              "      <th>21</th>\n",
              "      <td>539998</td>\n",
              "      <td>84675</td>\n",
              "      <td>NaN</td>\n",
              "      <td>2.0</td>\n",
              "      <td>2020-01-04 10:16:00</td>\n",
              "      <td>0.0</td>\n",
              "      <td>NaN</td>\n",
              "    </tr>\n",
              "  </tbody>\n",
              "</table>\n",
              "</div>"
            ],
            "text/plain": [
              "   InvoiceNo StockCode Description  Quantity         InvoiceDate  UnitPrice  \\\n",
              "17    539994     22830         NaN      -1.0 2020-01-04 10:09:00        0.0   \n",
              "18    539995     85064         NaN     -12.0 2020-01-04 10:12:00        0.0   \n",
              "19    539996     21784         NaN     -10.0 2020-01-04 10:12:00        0.0   \n",
              "20    539997     84689         NaN       5.0 2020-01-04 10:15:00        0.0   \n",
              "21    539998     84675         NaN       2.0 2020-01-04 10:16:00        0.0   \n",
              "\n",
              "   CustomerID  \n",
              "17        NaN  \n",
              "18        NaN  \n",
              "19        NaN  \n",
              "20        NaN  \n",
              "21        NaN  "
            ]
          },
          "metadata": {
            "tags": []
          },
          "execution_count": 16
        }
      ]
    },
    {
      "cell_type": "markdown",
      "metadata": {
        "id": "zLRTr3Eo_U13"
      },
      "source": [
        "from the table, most of the description also have 0 unit price, we absolutely want to remove this kind of data. let's check if all null description have 0 unit price."
      ]
    },
    {
      "cell_type": "code",
      "metadata": {
        "trusted": true,
        "colab": {
          "base_uri": "https://localhost:8080/"
        },
        "id": "ZqD-7tpB_U13",
        "outputId": "4646d538-b2cf-4c83-9579-65182af958db"
      },
      "source": [
        "df_clean[df_clean.Description.isnull()].UnitPrice.value_counts()"
      ],
      "execution_count": null,
      "outputs": [
        {
          "output_type": "execute_result",
          "data": {
            "text/plain": [
              "0.0    1060\n",
              "Name: UnitPrice, dtype: int64"
            ]
          },
          "metadata": {
            "tags": []
          },
          "execution_count": 17
        }
      ]
    },
    {
      "cell_type": "markdown",
      "metadata": {
        "id": "x9O8Z9cH_U13"
      },
      "source": [
        "can be concluded that all null description have 0 unit, so we have to remove them all"
      ]
    },
    {
      "cell_type": "code",
      "metadata": {
        "trusted": true,
        "colab": {
          "base_uri": "https://localhost:8080/"
        },
        "id": "DF4OnH6N_U13",
        "outputId": "16fa6993-6b70-4f1e-9d25-054979a12e74"
      },
      "source": [
        "df_clean = df_clean[df_clean['Description'].notnull()]\n",
        "df_clean.Description.isna().value_counts()"
      ],
      "execution_count": null,
      "outputs": [
        {
          "output_type": "execute_result",
          "data": {
            "text/plain": [
              "False    295383\n",
              "Name: Description, dtype: int64"
            ]
          },
          "metadata": {
            "tags": []
          },
          "execution_count": 18
        }
      ]
    },
    {
      "cell_type": "code",
      "metadata": {
        "trusted": true,
        "colab": {
          "base_uri": "https://localhost:8080/",
          "height": 204
        },
        "id": "HMW6hztQ_U13",
        "outputId": "981ed299-f11f-4977-83b3-59d8770295fa"
      },
      "source": [
        "df_clean[df_clean['UnitPrice']==0.0].head()"
      ],
      "execution_count": null,
      "outputs": [
        {
          "output_type": "execute_result",
          "data": {
            "text/html": [
              "<div>\n",
              "<style scoped>\n",
              "    .dataframe tbody tr th:only-of-type {\n",
              "        vertical-align: middle;\n",
              "    }\n",
              "\n",
              "    .dataframe tbody tr th {\n",
              "        vertical-align: top;\n",
              "    }\n",
              "\n",
              "    .dataframe thead th {\n",
              "        text-align: right;\n",
              "    }\n",
              "</style>\n",
              "<table border=\"1\" class=\"dataframe\">\n",
              "  <thead>\n",
              "    <tr style=\"text-align: right;\">\n",
              "      <th></th>\n",
              "      <th>InvoiceNo</th>\n",
              "      <th>StockCode</th>\n",
              "      <th>Description</th>\n",
              "      <th>Quantity</th>\n",
              "      <th>InvoiceDate</th>\n",
              "      <th>UnitPrice</th>\n",
              "      <th>CustomerID</th>\n",
              "    </tr>\n",
              "  </thead>\n",
              "  <tbody>\n",
              "    <tr>\n",
              "      <th>83</th>\n",
              "      <td>540010</td>\n",
              "      <td>22501</td>\n",
              "      <td>reverse 21/5/10 adjustment</td>\n",
              "      <td>-100.0</td>\n",
              "      <td>2020-01-04 11:13:00</td>\n",
              "      <td>0.0</td>\n",
              "      <td>NaN</td>\n",
              "    </tr>\n",
              "    <tr>\n",
              "      <th>85</th>\n",
              "      <td>540012</td>\n",
              "      <td>22502</td>\n",
              "      <td>reverse 21/5/10 adjustment</td>\n",
              "      <td>-100.0</td>\n",
              "      <td>2020-01-04 11:14:00</td>\n",
              "      <td>0.0</td>\n",
              "      <td>NaN</td>\n",
              "    </tr>\n",
              "    <tr>\n",
              "      <th>1181</th>\n",
              "      <td>540100</td>\n",
              "      <td>22837</td>\n",
              "      <td>?</td>\n",
              "      <td>-106.0</td>\n",
              "      <td>2020-01-04 16:53:00</td>\n",
              "      <td>0.0</td>\n",
              "      <td>NaN</td>\n",
              "    </tr>\n",
              "    <tr>\n",
              "      <th>4098</th>\n",
              "      <td>540355</td>\n",
              "      <td>20724</td>\n",
              "      <td>RED RETROSPOT CHARLOTTE BAG</td>\n",
              "      <td>1.0</td>\n",
              "      <td>2020-01-06 15:11:00</td>\n",
              "      <td>0.0</td>\n",
              "      <td>NaN</td>\n",
              "    </tr>\n",
              "    <tr>\n",
              "      <th>4192</th>\n",
              "      <td>540356</td>\n",
              "      <td>20724</td>\n",
              "      <td>RED RETROSPOT CHARLOTTE BAG</td>\n",
              "      <td>1.0</td>\n",
              "      <td>2020-01-06 15:12:00</td>\n",
              "      <td>0.0</td>\n",
              "      <td>NaN</td>\n",
              "    </tr>\n",
              "  </tbody>\n",
              "</table>\n",
              "</div>"
            ],
            "text/plain": [
              "     InvoiceNo StockCode                  Description  Quantity  \\\n",
              "83      540010     22501   reverse 21/5/10 adjustment    -100.0   \n",
              "85      540012     22502   reverse 21/5/10 adjustment    -100.0   \n",
              "1181    540100     22837                            ?    -106.0   \n",
              "4098    540355     20724  RED RETROSPOT CHARLOTTE BAG       1.0   \n",
              "4192    540356     20724  RED RETROSPOT CHARLOTTE BAG       1.0   \n",
              "\n",
              "             InvoiceDate  UnitPrice CustomerID  \n",
              "83   2020-01-04 11:13:00        0.0        NaN  \n",
              "85   2020-01-04 11:14:00        0.0        NaN  \n",
              "1181 2020-01-04 16:53:00        0.0        NaN  \n",
              "4098 2020-01-06 15:11:00        0.0        NaN  \n",
              "4192 2020-01-06 15:12:00        0.0        NaN  "
            ]
          },
          "metadata": {
            "tags": []
          },
          "execution_count": 19
        }
      ]
    },
    {
      "cell_type": "markdown",
      "metadata": {
        "id": "AkJU0ZyT_U13"
      },
      "source": [
        "remove all the rest from UnitPrice that has 0 value, because it's not normal"
      ]
    },
    {
      "cell_type": "code",
      "metadata": {
        "trusted": true,
        "colab": {
          "base_uri": "https://localhost:8080/"
        },
        "id": "g3TcLVV7_U14",
        "outputId": "07855eed-ef60-4cbf-ca45-4f7b752483f4"
      },
      "source": [
        "df_clean = df_clean[df_clean['UnitPrice']!=0.0]\n",
        "(df_clean['UnitPrice']==0.0).value_counts()"
      ],
      "execution_count": null,
      "outputs": [
        {
          "output_type": "execute_result",
          "data": {
            "text/plain": [
              "False    294875\n",
              "Name: UnitPrice, dtype: int64"
            ]
          },
          "metadata": {
            "tags": []
          },
          "execution_count": 20
        }
      ]
    },
    {
      "cell_type": "code",
      "metadata": {
        "trusted": true,
        "colab": {
          "base_uri": "https://localhost:8080/",
          "height": 297
        },
        "id": "dxrTbPYP_U14",
        "outputId": "549103e8-80d7-4cf6-f2b5-94abd9e02091"
      },
      "source": [
        "df_clean.describe()"
      ],
      "execution_count": null,
      "outputs": [
        {
          "output_type": "execute_result",
          "data": {
            "text/html": [
              "<div>\n",
              "<style scoped>\n",
              "    .dataframe tbody tr th:only-of-type {\n",
              "        vertical-align: middle;\n",
              "    }\n",
              "\n",
              "    .dataframe tbody tr th {\n",
              "        vertical-align: top;\n",
              "    }\n",
              "\n",
              "    .dataframe thead th {\n",
              "        text-align: right;\n",
              "    }\n",
              "</style>\n",
              "<table border=\"1\" class=\"dataframe\">\n",
              "  <thead>\n",
              "    <tr style=\"text-align: right;\">\n",
              "      <th></th>\n",
              "      <th>Quantity</th>\n",
              "      <th>UnitPrice</th>\n",
              "    </tr>\n",
              "  </thead>\n",
              "  <tbody>\n",
              "    <tr>\n",
              "      <th>count</th>\n",
              "      <td>294874.000000</td>\n",
              "      <td>294874.000000</td>\n",
              "    </tr>\n",
              "    <tr>\n",
              "      <th>mean</th>\n",
              "      <td>10.291962</td>\n",
              "      <td>4.668972</td>\n",
              "    </tr>\n",
              "    <tr>\n",
              "      <th>std</th>\n",
              "      <td>197.431812</td>\n",
              "      <td>105.767789</td>\n",
              "    </tr>\n",
              "    <tr>\n",
              "      <th>min</th>\n",
              "      <td>-74215.000000</td>\n",
              "      <td>-11062.060000</td>\n",
              "    </tr>\n",
              "    <tr>\n",
              "      <th>25%</th>\n",
              "      <td>1.000000</td>\n",
              "      <td>1.250000</td>\n",
              "    </tr>\n",
              "    <tr>\n",
              "      <th>50%</th>\n",
              "      <td>3.000000</td>\n",
              "      <td>2.080000</td>\n",
              "    </tr>\n",
              "    <tr>\n",
              "      <th>75%</th>\n",
              "      <td>12.000000</td>\n",
              "      <td>4.130000</td>\n",
              "    </tr>\n",
              "    <tr>\n",
              "      <th>max</th>\n",
              "      <td>74215.000000</td>\n",
              "      <td>38970.000000</td>\n",
              "    </tr>\n",
              "  </tbody>\n",
              "</table>\n",
              "</div>"
            ],
            "text/plain": [
              "            Quantity      UnitPrice\n",
              "count  294874.000000  294874.000000\n",
              "mean       10.291962       4.668972\n",
              "std       197.431812     105.767789\n",
              "min    -74215.000000  -11062.060000\n",
              "25%         1.000000       1.250000\n",
              "50%         3.000000       2.080000\n",
              "75%        12.000000       4.130000\n",
              "max     74215.000000   38970.000000"
            ]
          },
          "metadata": {
            "tags": []
          },
          "execution_count": 21
        }
      ]
    },
    {
      "cell_type": "markdown",
      "metadata": {
        "id": "Jcq-Ytff_U14"
      },
      "source": [
        "remove negative value"
      ]
    },
    {
      "cell_type": "code",
      "metadata": {
        "trusted": true,
        "id": "wzNFMLVf_U14"
      },
      "source": [
        "df_clean = df_clean[(df_clean['UnitPrice']>0) & (df_clean['Quantity'] > 0)]"
      ],
      "execution_count": null,
      "outputs": []
    },
    {
      "cell_type": "code",
      "metadata": {
        "trusted": true,
        "colab": {
          "base_uri": "https://localhost:8080/",
          "height": 297
        },
        "id": "to7-LB-4_U15",
        "outputId": "ad8a6d18-4d8e-430a-9210-ffa0765a2519"
      },
      "source": [
        "df_clean.describe()"
      ],
      "execution_count": null,
      "outputs": [
        {
          "output_type": "execute_result",
          "data": {
            "text/html": [
              "<div>\n",
              "<style scoped>\n",
              "    .dataframe tbody tr th:only-of-type {\n",
              "        vertical-align: middle;\n",
              "    }\n",
              "\n",
              "    .dataframe tbody tr th {\n",
              "        vertical-align: top;\n",
              "    }\n",
              "\n",
              "    .dataframe thead th {\n",
              "        text-align: right;\n",
              "    }\n",
              "</style>\n",
              "<table border=\"1\" class=\"dataframe\">\n",
              "  <thead>\n",
              "    <tr style=\"text-align: right;\">\n",
              "      <th></th>\n",
              "      <th>Quantity</th>\n",
              "      <th>UnitPrice</th>\n",
              "    </tr>\n",
              "  </thead>\n",
              "  <tbody>\n",
              "    <tr>\n",
              "      <th>count</th>\n",
              "      <td>289499.000000</td>\n",
              "      <td>289499.000000</td>\n",
              "    </tr>\n",
              "    <tr>\n",
              "      <th>mean</th>\n",
              "      <td>10.948981</td>\n",
              "      <td>3.909803</td>\n",
              "    </tr>\n",
              "    <tr>\n",
              "      <th>std</th>\n",
              "      <td>143.367339</td>\n",
              "      <td>32.867995</td>\n",
              "    </tr>\n",
              "    <tr>\n",
              "      <th>min</th>\n",
              "      <td>1.000000</td>\n",
              "      <td>0.001000</td>\n",
              "    </tr>\n",
              "    <tr>\n",
              "      <th>25%</th>\n",
              "      <td>1.000000</td>\n",
              "      <td>1.250000</td>\n",
              "    </tr>\n",
              "    <tr>\n",
              "      <th>50%</th>\n",
              "      <td>4.000000</td>\n",
              "      <td>2.080000</td>\n",
              "    </tr>\n",
              "    <tr>\n",
              "      <th>75%</th>\n",
              "      <td>12.000000</td>\n",
              "      <td>4.130000</td>\n",
              "    </tr>\n",
              "    <tr>\n",
              "      <th>max</th>\n",
              "      <td>74215.000000</td>\n",
              "      <td>11062.060000</td>\n",
              "    </tr>\n",
              "  </tbody>\n",
              "</table>\n",
              "</div>"
            ],
            "text/plain": [
              "            Quantity      UnitPrice\n",
              "count  289499.000000  289499.000000\n",
              "mean       10.948981       3.909803\n",
              "std       143.367339      32.867995\n",
              "min         1.000000       0.001000\n",
              "25%         1.000000       1.250000\n",
              "50%         4.000000       2.080000\n",
              "75%        12.000000       4.130000\n",
              "max     74215.000000   11062.060000"
            ]
          },
          "metadata": {
            "tags": []
          },
          "execution_count": 23
        }
      ]
    },
    {
      "cell_type": "code",
      "metadata": {
        "trusted": true,
        "colab": {
          "base_uri": "https://localhost:8080/",
          "height": 204
        },
        "id": "jnevlPy1_U15",
        "outputId": "6f400683-dcea-4fd0-d237-c2be8597fd3d"
      },
      "source": [
        "df_clean.head()"
      ],
      "execution_count": null,
      "outputs": [
        {
          "output_type": "execute_result",
          "data": {
            "text/html": [
              "<div>\n",
              "<style scoped>\n",
              "    .dataframe tbody tr th:only-of-type {\n",
              "        vertical-align: middle;\n",
              "    }\n",
              "\n",
              "    .dataframe tbody tr th {\n",
              "        vertical-align: top;\n",
              "    }\n",
              "\n",
              "    .dataframe thead th {\n",
              "        text-align: right;\n",
              "    }\n",
              "</style>\n",
              "<table border=\"1\" class=\"dataframe\">\n",
              "  <thead>\n",
              "    <tr style=\"text-align: right;\">\n",
              "      <th></th>\n",
              "      <th>InvoiceNo</th>\n",
              "      <th>StockCode</th>\n",
              "      <th>Description</th>\n",
              "      <th>Quantity</th>\n",
              "      <th>InvoiceDate</th>\n",
              "      <th>UnitPrice</th>\n",
              "      <th>CustomerID</th>\n",
              "    </tr>\n",
              "  </thead>\n",
              "  <tbody>\n",
              "    <tr>\n",
              "      <th>0</th>\n",
              "      <td>539993</td>\n",
              "      <td>22386</td>\n",
              "      <td>JUMBO BAG PINK POLKADOT</td>\n",
              "      <td>10.0</td>\n",
              "      <td>2020-01-04 10:00:00</td>\n",
              "      <td>1.95</td>\n",
              "      <td>13313</td>\n",
              "    </tr>\n",
              "    <tr>\n",
              "      <th>1</th>\n",
              "      <td>539993</td>\n",
              "      <td>21499</td>\n",
              "      <td>BLUE POLKADOT WRAP</td>\n",
              "      <td>25.0</td>\n",
              "      <td>2020-01-04 10:00:00</td>\n",
              "      <td>0.42</td>\n",
              "      <td>13313</td>\n",
              "    </tr>\n",
              "    <tr>\n",
              "      <th>2</th>\n",
              "      <td>539993</td>\n",
              "      <td>21498</td>\n",
              "      <td>RED RETROSPOT WRAP</td>\n",
              "      <td>25.0</td>\n",
              "      <td>2020-01-04 10:00:00</td>\n",
              "      <td>0.42</td>\n",
              "      <td>13313</td>\n",
              "    </tr>\n",
              "    <tr>\n",
              "      <th>3</th>\n",
              "      <td>539993</td>\n",
              "      <td>22379</td>\n",
              "      <td>RECYCLING BAG RETROSPOT</td>\n",
              "      <td>5.0</td>\n",
              "      <td>2020-01-04 10:00:00</td>\n",
              "      <td>2.10</td>\n",
              "      <td>13313</td>\n",
              "    </tr>\n",
              "    <tr>\n",
              "      <th>4</th>\n",
              "      <td>539993</td>\n",
              "      <td>20718</td>\n",
              "      <td>RED RETROSPOT SHOPPER BAG</td>\n",
              "      <td>10.0</td>\n",
              "      <td>2020-01-04 10:00:00</td>\n",
              "      <td>1.25</td>\n",
              "      <td>13313</td>\n",
              "    </tr>\n",
              "  </tbody>\n",
              "</table>\n",
              "</div>"
            ],
            "text/plain": [
              "  InvoiceNo StockCode                Description  Quantity  \\\n",
              "0    539993     22386    JUMBO BAG PINK POLKADOT      10.0   \n",
              "1    539993     21499         BLUE POLKADOT WRAP      25.0   \n",
              "2    539993     21498        RED RETROSPOT WRAP       25.0   \n",
              "3    539993     22379   RECYCLING BAG RETROSPOT        5.0   \n",
              "4    539993     20718  RED RETROSPOT SHOPPER BAG      10.0   \n",
              "\n",
              "          InvoiceDate  UnitPrice CustomerID  \n",
              "0 2020-01-04 10:00:00       1.95      13313  \n",
              "1 2020-01-04 10:00:00       0.42      13313  \n",
              "2 2020-01-04 10:00:00       0.42      13313  \n",
              "3 2020-01-04 10:00:00       2.10      13313  \n",
              "4 2020-01-04 10:00:00       1.25      13313  "
            ]
          },
          "metadata": {
            "tags": []
          },
          "execution_count": 24
        }
      ]
    },
    {
      "cell_type": "markdown",
      "metadata": {
        "id": "ovX-MtV8_U15"
      },
      "source": [
        "next, remove duplicate value"
      ]
    },
    {
      "cell_type": "code",
      "metadata": {
        "trusted": true,
        "colab": {
          "base_uri": "https://localhost:8080/"
        },
        "id": "PN4X-32o_U15",
        "outputId": "ed47dd42-36f3-4b4f-dedc-7db88375f153"
      },
      "source": [
        "print('number of duplicates: {}'.format(df_clean.duplicated().sum()))"
      ],
      "execution_count": null,
      "outputs": [
        {
          "output_type": "stream",
          "text": [
            "number of duplicates: 2135\n"
          ],
          "name": "stdout"
        }
      ]
    },
    {
      "cell_type": "code",
      "metadata": {
        "trusted": true,
        "id": "aFRhDvuC_U15"
      },
      "source": [
        "data = df_clean.drop_duplicates()"
      ],
      "execution_count": null,
      "outputs": []
    },
    {
      "cell_type": "code",
      "metadata": {
        "trusted": true,
        "colab": {
          "base_uri": "https://localhost:8080/"
        },
        "id": "yPJC5-KN_U15",
        "outputId": "c39ee7f8-4ed4-4489-d6ba-b292cd42bc2a"
      },
      "source": [
        "print('number of duplicates: {}'.format(data.duplicated().sum()))\n",
        "data.shape"
      ],
      "execution_count": null,
      "outputs": [
        {
          "output_type": "stream",
          "text": [
            "number of duplicates: 0\n"
          ],
          "name": "stdout"
        },
        {
          "output_type": "execute_result",
          "data": {
            "text/plain": [
              "(287364, 7)"
            ]
          },
          "metadata": {
            "tags": []
          },
          "execution_count": 27
        }
      ]
    },
    {
      "cell_type": "markdown",
      "metadata": {
        "id": "k0uWXfp2_U16"
      },
      "source": [
        "Just based on curiosity, let's check the data that have a large unitprice"
      ]
    },
    {
      "cell_type": "code",
      "metadata": {
        "trusted": true,
        "colab": {
          "base_uri": "https://localhost:8080/",
          "height": 204
        },
        "id": "J2AJZepO_U16",
        "outputId": "13008fbe-1065-4262-b0c9-0c3e320ce8f4"
      },
      "source": [
        "data[data.UnitPrice > 200].head() #to check it fully, remove the head()"
      ],
      "execution_count": null,
      "outputs": [
        {
          "output_type": "execute_result",
          "data": {
            "text/html": [
              "<div>\n",
              "<style scoped>\n",
              "    .dataframe tbody tr th:only-of-type {\n",
              "        vertical-align: middle;\n",
              "    }\n",
              "\n",
              "    .dataframe tbody tr th {\n",
              "        vertical-align: top;\n",
              "    }\n",
              "\n",
              "    .dataframe thead th {\n",
              "        text-align: right;\n",
              "    }\n",
              "</style>\n",
              "<table border=\"1\" class=\"dataframe\">\n",
              "  <thead>\n",
              "    <tr style=\"text-align: right;\">\n",
              "      <th></th>\n",
              "      <th>InvoiceNo</th>\n",
              "      <th>StockCode</th>\n",
              "      <th>Description</th>\n",
              "      <th>Quantity</th>\n",
              "      <th>InvoiceDate</th>\n",
              "      <th>UnitPrice</th>\n",
              "      <th>CustomerID</th>\n",
              "    </tr>\n",
              "  </thead>\n",
              "  <tbody>\n",
              "    <tr>\n",
              "      <th>498</th>\n",
              "      <td>540026</td>\n",
              "      <td>DOT</td>\n",
              "      <td>DOTCOM POSTAGE</td>\n",
              "      <td>1.0</td>\n",
              "      <td>2020-01-04 13:25:00</td>\n",
              "      <td>469.70</td>\n",
              "      <td>NaN</td>\n",
              "    </tr>\n",
              "    <tr>\n",
              "      <th>2712</th>\n",
              "      <td>540255</td>\n",
              "      <td>DOT</td>\n",
              "      <td>DOTCOM POSTAGE</td>\n",
              "      <td>1.0</td>\n",
              "      <td>2020-01-05 16:50:00</td>\n",
              "      <td>219.24</td>\n",
              "      <td>NaN</td>\n",
              "    </tr>\n",
              "    <tr>\n",
              "      <th>3885</th>\n",
              "      <td>540352</td>\n",
              "      <td>DOT</td>\n",
              "      <td>DOTCOM POSTAGE</td>\n",
              "      <td>1.0</td>\n",
              "      <td>2020-01-06 14:27:00</td>\n",
              "      <td>306.35</td>\n",
              "      <td>NaN</td>\n",
              "    </tr>\n",
              "    <tr>\n",
              "      <th>5339</th>\n",
              "      <td>540418</td>\n",
              "      <td>DOT</td>\n",
              "      <td>DOTCOM POSTAGE</td>\n",
              "      <td>1.0</td>\n",
              "      <td>2020-01-07 11:04:00</td>\n",
              "      <td>369.95</td>\n",
              "      <td>NaN</td>\n",
              "    </tr>\n",
              "    <tr>\n",
              "      <th>5965</th>\n",
              "      <td>540468</td>\n",
              "      <td>DOT</td>\n",
              "      <td>DOTCOM POSTAGE</td>\n",
              "      <td>1.0</td>\n",
              "      <td>2020-01-07 13:55:00</td>\n",
              "      <td>278.97</td>\n",
              "      <td>NaN</td>\n",
              "    </tr>\n",
              "  </tbody>\n",
              "</table>\n",
              "</div>"
            ],
            "text/plain": [
              "     InvoiceNo StockCode     Description  Quantity         InvoiceDate  \\\n",
              "498     540026       DOT  DOTCOM POSTAGE       1.0 2020-01-04 13:25:00   \n",
              "2712    540255       DOT  DOTCOM POSTAGE       1.0 2020-01-05 16:50:00   \n",
              "3885    540352       DOT  DOTCOM POSTAGE       1.0 2020-01-06 14:27:00   \n",
              "5339    540418       DOT  DOTCOM POSTAGE       1.0 2020-01-07 11:04:00   \n",
              "5965    540468       DOT  DOTCOM POSTAGE       1.0 2020-01-07 13:55:00   \n",
              "\n",
              "      UnitPrice CustomerID  \n",
              "498      469.70        NaN  \n",
              "2712     219.24        NaN  \n",
              "3885     306.35        NaN  \n",
              "5339     369.95        NaN  \n",
              "5965     278.97        NaN  "
            ]
          },
          "metadata": {
            "tags": []
          },
          "execution_count": 28
        }
      ]
    },
    {
      "cell_type": "markdown",
      "metadata": {
        "id": "Smw1NOIl_U16"
      },
      "source": [
        "from the large unitprice data, we can see that most of them were DOT, M, and there is this \"AMAZONFEE\" that have super large unitprice"
      ]
    },
    {
      "cell_type": "code",
      "metadata": {
        "trusted": true,
        "colab": {
          "base_uri": "https://localhost:8080/"
        },
        "id": "fLqUXObN_U16",
        "outputId": "20f7ab48-803a-44a9-99f3-7a5b2648a7c2"
      },
      "source": [
        "data[(data.StockCode == 'DOT') | (data.StockCode == 'M') | (data.StockCode == 'AMAZONFEE')].shape"
      ],
      "execution_count": null,
      "outputs": [
        {
          "output_type": "execute_result",
          "data": {
            "text/plain": [
              "(692, 7)"
            ]
          },
          "metadata": {
            "tags": []
          },
          "execution_count": 29
        }
      ]
    },
    {
      "cell_type": "markdown",
      "metadata": {
        "id": "BNboXtTN_U16"
      },
      "source": [
        "before we remove them, let's make a box plot to make sure are they an extreme outliers"
      ]
    },
    {
      "cell_type": "code",
      "metadata": {
        "trusted": true,
        "colab": {
          "base_uri": "https://localhost:8080/",
          "height": 269
        },
        "id": "e32X0zhf_U17",
        "outputId": "b548d20d-1603-48e3-9800-c8b0380b1e60"
      },
      "source": [
        "sns.boxplot(y=data.UnitPrice)"
      ],
      "execution_count": null,
      "outputs": [
        {
          "output_type": "execute_result",
          "data": {
            "text/plain": [
              "<matplotlib.axes._subplots.AxesSubplot at 0x7ff14d2b4e90>"
            ]
          },
          "metadata": {
            "tags": []
          },
          "execution_count": 30
        },
        {
          "output_type": "display_data",
          "data": {
            "image/png": "[encoded data removed]",
            "text/plain": [
              "<Figure size 432x288 with 1 Axes>"
            ]
          },
          "metadata": {
            "tags": [],
            "needs_background": "light"
          }
        }
      ]
    },
    {
      "cell_type": "markdown",
      "metadata": {
        "id": "jeOSpwLJ_U17"
      },
      "source": [
        "As you can see, the box which is majority of the data can't be seen, so removing the extreme outliers can be our option. In real life case, I think the best choice is to verify to the data collection, are they really customer purchase or not. But since we can't do that now, let's assume that these isn't customer purchase (since the stockcode itself is suspicious). Let's remove them."
      ]
    },
    {
      "cell_type": "code",
      "metadata": {
        "trusted": true,
        "colab": {
          "base_uri": "https://localhost:8080/",
          "height": 269
        },
        "id": "Fn33WS2R_U17",
        "outputId": "60878423-b672-47ff-f252-c0f6bb0b8edb"
      },
      "source": [
        "data = data[(data.StockCode != 'DOT') & (data.StockCode != 'M') & (data.StockCode != 'AMAZONFEE')].copy()\n",
        "sns.boxplot(y=data.UnitPrice)"
      ],
      "execution_count": null,
      "outputs": [
        {
          "output_type": "execute_result",
          "data": {
            "text/plain": [
              "<matplotlib.axes._subplots.AxesSubplot at 0x7ff14c75fbd0>"
            ]
          },
          "metadata": {
            "tags": []
          },
          "execution_count": 31
        },
        {
          "output_type": "display_data",
          "data": {
            "image/png": "[encoded data removed]",
            "text/plain": [
              "<Figure size 432x288 with 1 Axes>"
            ]
          },
          "metadata": {
            "tags": [],
            "needs_background": "light"
          }
        }
      ]
    },
    {
      "cell_type": "markdown",
      "metadata": {
        "id": "C4PfbIhF_U17"
      },
      "source": [
        "this boxplot indicates that there's still something suspicious going on, so we will check again"
      ]
    },
    {
      "cell_type": "code",
      "metadata": {
        "trusted": true,
        "colab": {
          "base_uri": "https://localhost:8080/",
          "height": 204
        },
        "id": "AdYiS2C0_U17",
        "outputId": "104eb38c-199c-4d81-fb75-2a45eb742c4c"
      },
      "source": [
        "data[data.UnitPrice>200].head()"
      ],
      "execution_count": null,
      "outputs": [
        {
          "output_type": "execute_result",
          "data": {
            "text/html": [
              "<div>\n",
              "<style scoped>\n",
              "    .dataframe tbody tr th:only-of-type {\n",
              "        vertical-align: middle;\n",
              "    }\n",
              "\n",
              "    .dataframe tbody tr th {\n",
              "        vertical-align: top;\n",
              "    }\n",
              "\n",
              "    .dataframe thead th {\n",
              "        text-align: right;\n",
              "    }\n",
              "</style>\n",
              "<table border=\"1\" class=\"dataframe\">\n",
              "  <thead>\n",
              "    <tr style=\"text-align: right;\">\n",
              "      <th></th>\n",
              "      <th>InvoiceNo</th>\n",
              "      <th>StockCode</th>\n",
              "      <th>Description</th>\n",
              "      <th>Quantity</th>\n",
              "      <th>InvoiceDate</th>\n",
              "      <th>UnitPrice</th>\n",
              "      <th>CustomerID</th>\n",
              "    </tr>\n",
              "  </thead>\n",
              "  <tbody>\n",
              "    <tr>\n",
              "      <th>9155</th>\n",
              "      <td>540647</td>\n",
              "      <td>22655</td>\n",
              "      <td>VINTAGE RED KITCHEN CABINET</td>\n",
              "      <td>1.0</td>\n",
              "      <td>2020-01-10 14:57:00</td>\n",
              "      <td>295.0</td>\n",
              "      <td>17406</td>\n",
              "    </tr>\n",
              "    <tr>\n",
              "      <th>40287</th>\n",
              "      <td>543253</td>\n",
              "      <td>22655</td>\n",
              "      <td>VINTAGE RED KITCHEN CABINET</td>\n",
              "      <td>1.0</td>\n",
              "      <td>2020-02-04 15:32:00</td>\n",
              "      <td>295.0</td>\n",
              "      <td>14842</td>\n",
              "    </tr>\n",
              "    <tr>\n",
              "      <th>76288</th>\n",
              "      <td>546480</td>\n",
              "      <td>22656</td>\n",
              "      <td>VINTAGE BLUE KITCHEN CABINET</td>\n",
              "      <td>1.0</td>\n",
              "      <td>2020-03-14 11:38:00</td>\n",
              "      <td>295.0</td>\n",
              "      <td>13452</td>\n",
              "    </tr>\n",
              "    <tr>\n",
              "      <th>91513</th>\n",
              "      <td>547814</td>\n",
              "      <td>22656</td>\n",
              "      <td>VINTAGE BLUE KITCHEN CABINET</td>\n",
              "      <td>1.0</td>\n",
              "      <td>2020-03-25 14:19:00</td>\n",
              "      <td>295.0</td>\n",
              "      <td>13452</td>\n",
              "    </tr>\n",
              "    <tr>\n",
              "      <th>100507</th>\n",
              "      <td>548661</td>\n",
              "      <td>POST</td>\n",
              "      <td>POSTAGE</td>\n",
              "      <td>1.0</td>\n",
              "      <td>2020-04-01 14:28:00</td>\n",
              "      <td>350.0</td>\n",
              "      <td>12415</td>\n",
              "    </tr>\n",
              "  </tbody>\n",
              "</table>\n",
              "</div>"
            ],
            "text/plain": [
              "       InvoiceNo StockCode                   Description  Quantity  \\\n",
              "9155      540647     22655   VINTAGE RED KITCHEN CABINET       1.0   \n",
              "40287     543253     22655   VINTAGE RED KITCHEN CABINET       1.0   \n",
              "76288     546480     22656  VINTAGE BLUE KITCHEN CABINET       1.0   \n",
              "91513     547814     22656  VINTAGE BLUE KITCHEN CABINET       1.0   \n",
              "100507    548661      POST                       POSTAGE       1.0   \n",
              "\n",
              "               InvoiceDate  UnitPrice CustomerID  \n",
              "9155   2020-01-10 14:57:00      295.0      17406  \n",
              "40287  2020-02-04 15:32:00      295.0      14842  \n",
              "76288  2020-03-14 11:38:00      295.0      13452  \n",
              "91513  2020-03-25 14:19:00      295.0      13452  \n",
              "100507 2020-04-01 14:28:00      350.0      12415  "
            ]
          },
          "metadata": {
            "tags": []
          },
          "execution_count": 32
        }
      ]
    },
    {
      "cell_type": "markdown",
      "metadata": {
        "id": "cYhQAnSh_U18"
      },
      "source": [
        "ok the item with stockcode POST and B are suspicious to. For the same reason as before, we will remove them too."
      ]
    },
    {
      "cell_type": "code",
      "metadata": {
        "trusted": true,
        "colab": {
          "base_uri": "https://localhost:8080/",
          "height": 269
        },
        "id": "x3FLNKOm_U18",
        "outputId": "c71455ef-445f-416e-db17-29ec72e3b75b"
      },
      "source": [
        "data = data[(data.StockCode != 'B') & (data.StockCode != 'POST')].copy()\n",
        "sns.boxplot(y=data.UnitPrice)"
      ],
      "execution_count": null,
      "outputs": [
        {
          "output_type": "execute_result",
          "data": {
            "text/plain": [
              "<matplotlib.axes._subplots.AxesSubplot at 0x7ff14c297790>"
            ]
          },
          "metadata": {
            "tags": []
          },
          "execution_count": 33
        },
        {
          "output_type": "display_data",
          "data": {
            "image/png": "[encoded data removed]",
            "text/plain": [
              "<Figure size 432x288 with 1 Axes>"
            ]
          },
          "metadata": {
            "tags": [],
            "needs_background": "light"
          }
        }
      ]
    },
    {
      "cell_type": "code",
      "metadata": {
        "trusted": true,
        "colab": {
          "base_uri": "https://localhost:8080/",
          "height": 204
        },
        "id": "U8-cY2Sv_U18",
        "outputId": "71fb8344-689c-46bb-a3ce-0039126a4a0a"
      },
      "source": [
        "data[data.UnitPrice>200].head()"
      ],
      "execution_count": null,
      "outputs": [
        {
          "output_type": "execute_result",
          "data": {
            "text/html": [
              "<div>\n",
              "<style scoped>\n",
              "    .dataframe tbody tr th:only-of-type {\n",
              "        vertical-align: middle;\n",
              "    }\n",
              "\n",
              "    .dataframe tbody tr th {\n",
              "        vertical-align: top;\n",
              "    }\n",
              "\n",
              "    .dataframe thead th {\n",
              "        text-align: right;\n",
              "    }\n",
              "</style>\n",
              "<table border=\"1\" class=\"dataframe\">\n",
              "  <thead>\n",
              "    <tr style=\"text-align: right;\">\n",
              "      <th></th>\n",
              "      <th>InvoiceNo</th>\n",
              "      <th>StockCode</th>\n",
              "      <th>Description</th>\n",
              "      <th>Quantity</th>\n",
              "      <th>InvoiceDate</th>\n",
              "      <th>UnitPrice</th>\n",
              "      <th>CustomerID</th>\n",
              "    </tr>\n",
              "  </thead>\n",
              "  <tbody>\n",
              "    <tr>\n",
              "      <th>9155</th>\n",
              "      <td>540647</td>\n",
              "      <td>22655</td>\n",
              "      <td>VINTAGE RED KITCHEN CABINET</td>\n",
              "      <td>1.0</td>\n",
              "      <td>2020-01-10 14:57:00</td>\n",
              "      <td>295.0</td>\n",
              "      <td>17406</td>\n",
              "    </tr>\n",
              "    <tr>\n",
              "      <th>40287</th>\n",
              "      <td>543253</td>\n",
              "      <td>22655</td>\n",
              "      <td>VINTAGE RED KITCHEN CABINET</td>\n",
              "      <td>1.0</td>\n",
              "      <td>2020-02-04 15:32:00</td>\n",
              "      <td>295.0</td>\n",
              "      <td>14842</td>\n",
              "    </tr>\n",
              "    <tr>\n",
              "      <th>76288</th>\n",
              "      <td>546480</td>\n",
              "      <td>22656</td>\n",
              "      <td>VINTAGE BLUE KITCHEN CABINET</td>\n",
              "      <td>1.0</td>\n",
              "      <td>2020-03-14 11:38:00</td>\n",
              "      <td>295.0</td>\n",
              "      <td>13452</td>\n",
              "    </tr>\n",
              "    <tr>\n",
              "      <th>91513</th>\n",
              "      <td>547814</td>\n",
              "      <td>22656</td>\n",
              "      <td>VINTAGE BLUE KITCHEN CABINET</td>\n",
              "      <td>1.0</td>\n",
              "      <td>2020-03-25 14:19:00</td>\n",
              "      <td>295.0</td>\n",
              "      <td>13452</td>\n",
              "    </tr>\n",
              "    <tr>\n",
              "      <th>128697</th>\n",
              "      <td>551393</td>\n",
              "      <td>22656</td>\n",
              "      <td>VINTAGE BLUE KITCHEN CABINET</td>\n",
              "      <td>1.0</td>\n",
              "      <td>2020-04-28 12:22:00</td>\n",
              "      <td>295.0</td>\n",
              "      <td>14973</td>\n",
              "    </tr>\n",
              "  </tbody>\n",
              "</table>\n",
              "</div>"
            ],
            "text/plain": [
              "       InvoiceNo StockCode                   Description  Quantity  \\\n",
              "9155      540647     22655   VINTAGE RED KITCHEN CABINET       1.0   \n",
              "40287     543253     22655   VINTAGE RED KITCHEN CABINET       1.0   \n",
              "76288     546480     22656  VINTAGE BLUE KITCHEN CABINET       1.0   \n",
              "91513     547814     22656  VINTAGE BLUE KITCHEN CABINET       1.0   \n",
              "128697    551393     22656  VINTAGE BLUE KITCHEN CABINET       1.0   \n",
              "\n",
              "               InvoiceDate  UnitPrice CustomerID  \n",
              "9155   2020-01-10 14:57:00      295.0      17406  \n",
              "40287  2020-02-04 15:32:00      295.0      14842  \n",
              "76288  2020-03-14 11:38:00      295.0      13452  \n",
              "91513  2020-03-25 14:19:00      295.0      13452  \n",
              "128697 2020-04-28 12:22:00      295.0      14973  "
            ]
          },
          "metadata": {
            "tags": []
          },
          "execution_count": 34
        }
      ]
    },
    {
      "cell_type": "markdown",
      "metadata": {
        "id": "J6xYq0HI_U18"
      },
      "source": [
        "ok this looks fine"
      ]
    },
    {
      "cell_type": "code",
      "metadata": {
        "trusted": true,
        "colab": {
          "base_uri": "https://localhost:8080/",
          "height": 297
        },
        "id": "2lxMgP05_U18",
        "outputId": "c06f25ab-f63f-4ca6-9342-c478867cf38a"
      },
      "source": [
        "data.describe()"
      ],
      "execution_count": null,
      "outputs": [
        {
          "output_type": "execute_result",
          "data": {
            "text/html": [
              "<div>\n",
              "<style scoped>\n",
              "    .dataframe tbody tr th:only-of-type {\n",
              "        vertical-align: middle;\n",
              "    }\n",
              "\n",
              "    .dataframe tbody tr th {\n",
              "        vertical-align: top;\n",
              "    }\n",
              "\n",
              "    .dataframe thead th {\n",
              "        text-align: right;\n",
              "    }\n",
              "</style>\n",
              "<table border=\"1\" class=\"dataframe\">\n",
              "  <thead>\n",
              "    <tr style=\"text-align: right;\">\n",
              "      <th></th>\n",
              "      <th>Quantity</th>\n",
              "      <th>UnitPrice</th>\n",
              "    </tr>\n",
              "  </thead>\n",
              "  <tbody>\n",
              "    <tr>\n",
              "      <th>count</th>\n",
              "      <td>286025.000000</td>\n",
              "      <td>286025.000000</td>\n",
              "    </tr>\n",
              "    <tr>\n",
              "      <th>mean</th>\n",
              "      <td>11.043094</td>\n",
              "      <td>3.323256</td>\n",
              "    </tr>\n",
              "    <tr>\n",
              "      <th>std</th>\n",
              "      <td>144.204462</td>\n",
              "      <td>4.878182</td>\n",
              "    </tr>\n",
              "    <tr>\n",
              "      <th>min</th>\n",
              "      <td>1.000000</td>\n",
              "      <td>0.001000</td>\n",
              "    </tr>\n",
              "    <tr>\n",
              "      <th>25%</th>\n",
              "      <td>1.000000</td>\n",
              "      <td>1.250000</td>\n",
              "    </tr>\n",
              "    <tr>\n",
              "      <th>50%</th>\n",
              "      <td>4.000000</td>\n",
              "      <td>2.080000</td>\n",
              "    </tr>\n",
              "    <tr>\n",
              "      <th>75%</th>\n",
              "      <td>12.000000</td>\n",
              "      <td>4.130000</td>\n",
              "    </tr>\n",
              "    <tr>\n",
              "      <th>max</th>\n",
              "      <td>74215.000000</td>\n",
              "      <td>649.500000</td>\n",
              "    </tr>\n",
              "  </tbody>\n",
              "</table>\n",
              "</div>"
            ],
            "text/plain": [
              "            Quantity      UnitPrice\n",
              "count  286025.000000  286025.000000\n",
              "mean       11.043094       3.323256\n",
              "std       144.204462       4.878182\n",
              "min         1.000000       0.001000\n",
              "25%         1.000000       1.250000\n",
              "50%         4.000000       2.080000\n",
              "75%        12.000000       4.130000\n",
              "max     74215.000000     649.500000"
            ]
          },
          "metadata": {
            "tags": []
          },
          "execution_count": 35
        }
      ]
    },
    {
      "cell_type": "markdown",
      "metadata": {
        "id": "BsNEnZP8_U18"
      },
      "source": [
        "ok there's stil something quite off, the max quantity, let's check it."
      ]
    },
    {
      "cell_type": "code",
      "metadata": {
        "trusted": true,
        "colab": {
          "base_uri": "https://localhost:8080/",
          "height": 204
        },
        "id": "sMc7-5N5_U19",
        "outputId": "1a4ed6c4-3152-40c1-9fdb-68714a8a720c"
      },
      "source": [
        "data[data.Quantity>500].head()"
      ],
      "execution_count": null,
      "outputs": [
        {
          "output_type": "execute_result",
          "data": {
            "text/html": [
              "<div>\n",
              "<style scoped>\n",
              "    .dataframe tbody tr th:only-of-type {\n",
              "        vertical-align: middle;\n",
              "    }\n",
              "\n",
              "    .dataframe tbody tr th {\n",
              "        vertical-align: top;\n",
              "    }\n",
              "\n",
              "    .dataframe thead th {\n",
              "        text-align: right;\n",
              "    }\n",
              "</style>\n",
              "<table border=\"1\" class=\"dataframe\">\n",
              "  <thead>\n",
              "    <tr style=\"text-align: right;\">\n",
              "      <th></th>\n",
              "      <th>InvoiceNo</th>\n",
              "      <th>StockCode</th>\n",
              "      <th>Description</th>\n",
              "      <th>Quantity</th>\n",
              "      <th>InvoiceDate</th>\n",
              "      <th>UnitPrice</th>\n",
              "      <th>CustomerID</th>\n",
              "    </tr>\n",
              "  </thead>\n",
              "  <tbody>\n",
              "    <tr>\n",
              "      <th>1736</th>\n",
              "      <td>540160</td>\n",
              "      <td>22379</td>\n",
              "      <td>RECYCLING BAG RETROSPOT</td>\n",
              "      <td>600.0</td>\n",
              "      <td>2020-01-05 11:50:00</td>\n",
              "      <td>1.85</td>\n",
              "      <td>15769</td>\n",
              "    </tr>\n",
              "    <tr>\n",
              "      <th>2425</th>\n",
              "      <td>540245</td>\n",
              "      <td>17003</td>\n",
              "      <td>BROCADE RING PURSE</td>\n",
              "      <td>720.0</td>\n",
              "      <td>2020-01-05 15:42:00</td>\n",
              "      <td>0.16</td>\n",
              "      <td>13082</td>\n",
              "    </tr>\n",
              "    <tr>\n",
              "      <th>3011</th>\n",
              "      <td>540264</td>\n",
              "      <td>22197</td>\n",
              "      <td>SMALL POPCORN HOLDER</td>\n",
              "      <td>600.0</td>\n",
              "      <td>2020-01-06 10:20:00</td>\n",
              "      <td>0.72</td>\n",
              "      <td>17949</td>\n",
              "    </tr>\n",
              "    <tr>\n",
              "      <th>3055</th>\n",
              "      <td>540267</td>\n",
              "      <td>22492</td>\n",
              "      <td>MINI PAINT SET VINTAGE</td>\n",
              "      <td>576.0</td>\n",
              "      <td>2020-01-06 11:12:00</td>\n",
              "      <td>0.55</td>\n",
              "      <td>12415</td>\n",
              "    </tr>\n",
              "    <tr>\n",
              "      <th>4328</th>\n",
              "      <td>540363</td>\n",
              "      <td>40016</td>\n",
              "      <td>CHINESE DRAGON PAPER LANTERNS</td>\n",
              "      <td>600.0</td>\n",
              "      <td>2020-01-06 15:54:00</td>\n",
              "      <td>0.25</td>\n",
              "      <td>12971</td>\n",
              "    </tr>\n",
              "  </tbody>\n",
              "</table>\n",
              "</div>"
            ],
            "text/plain": [
              "     InvoiceNo StockCode                    Description  Quantity  \\\n",
              "1736    540160     22379       RECYCLING BAG RETROSPOT      600.0   \n",
              "2425    540245     17003            BROCADE RING PURSE      720.0   \n",
              "3011    540264     22197           SMALL POPCORN HOLDER     600.0   \n",
              "3055    540267     22492        MINI PAINT SET VINTAGE      576.0   \n",
              "4328    540363     40016  CHINESE DRAGON PAPER LANTERNS     600.0   \n",
              "\n",
              "             InvoiceDate  UnitPrice CustomerID  \n",
              "1736 2020-01-05 11:50:00       1.85      15769  \n",
              "2425 2020-01-05 15:42:00       0.16      13082  \n",
              "3011 2020-01-06 10:20:00       0.72      17949  \n",
              "3055 2020-01-06 11:12:00       0.55      12415  \n",
              "4328 2020-01-06 15:54:00       0.25      12971  "
            ]
          },
          "metadata": {
            "tags": []
          },
          "execution_count": 36
        }
      ]
    },
    {
      "cell_type": "markdown",
      "metadata": {
        "id": "Ee2uFIY1_U19"
      },
      "source": [
        "ok after checking, it looks fine."
      ]
    },
    {
      "cell_type": "markdown",
      "metadata": {
        "id": "dcpbm56i_U19"
      },
      "source": [
        "next thing i want to do, is looking from some potential odd description by using the descrption length"
      ]
    },
    {
      "cell_type": "code",
      "metadata": {
        "trusted": true,
        "colab": {
          "base_uri": "https://localhost:8080/",
          "height": 204
        },
        "id": "tuhKYLCc_U19",
        "outputId": "51cdacbf-daca-469f-f28b-178755e05899"
      },
      "source": [
        "data['des_len'] = data.Description.apply(lambda x: len(x))\n",
        "data.head()"
      ],
      "execution_count": null,
      "outputs": [
        {
          "output_type": "execute_result",
          "data": {
            "text/html": [
              "<div>\n",
              "<style scoped>\n",
              "    .dataframe tbody tr th:only-of-type {\n",
              "        vertical-align: middle;\n",
              "    }\n",
              "\n",
              "    .dataframe tbody tr th {\n",
              "        vertical-align: top;\n",
              "    }\n",
              "\n",
              "    .dataframe thead th {\n",
              "        text-align: right;\n",
              "    }\n",
              "</style>\n",
              "<table border=\"1\" class=\"dataframe\">\n",
              "  <thead>\n",
              "    <tr style=\"text-align: right;\">\n",
              "      <th></th>\n",
              "      <th>InvoiceNo</th>\n",
              "      <th>StockCode</th>\n",
              "      <th>Description</th>\n",
              "      <th>Quantity</th>\n",
              "      <th>InvoiceDate</th>\n",
              "      <th>UnitPrice</th>\n",
              "      <th>CustomerID</th>\n",
              "      <th>des_len</th>\n",
              "    </tr>\n",
              "  </thead>\n",
              "  <tbody>\n",
              "    <tr>\n",
              "      <th>0</th>\n",
              "      <td>539993</td>\n",
              "      <td>22386</td>\n",
              "      <td>JUMBO BAG PINK POLKADOT</td>\n",
              "      <td>10.0</td>\n",
              "      <td>2020-01-04 10:00:00</td>\n",
              "      <td>1.95</td>\n",
              "      <td>13313</td>\n",
              "      <td>23</td>\n",
              "    </tr>\n",
              "    <tr>\n",
              "      <th>1</th>\n",
              "      <td>539993</td>\n",
              "      <td>21499</td>\n",
              "      <td>BLUE POLKADOT WRAP</td>\n",
              "      <td>25.0</td>\n",
              "      <td>2020-01-04 10:00:00</td>\n",
              "      <td>0.42</td>\n",
              "      <td>13313</td>\n",
              "      <td>18</td>\n",
              "    </tr>\n",
              "    <tr>\n",
              "      <th>2</th>\n",
              "      <td>539993</td>\n",
              "      <td>21498</td>\n",
              "      <td>RED RETROSPOT WRAP</td>\n",
              "      <td>25.0</td>\n",
              "      <td>2020-01-04 10:00:00</td>\n",
              "      <td>0.42</td>\n",
              "      <td>13313</td>\n",
              "      <td>19</td>\n",
              "    </tr>\n",
              "    <tr>\n",
              "      <th>3</th>\n",
              "      <td>539993</td>\n",
              "      <td>22379</td>\n",
              "      <td>RECYCLING BAG RETROSPOT</td>\n",
              "      <td>5.0</td>\n",
              "      <td>2020-01-04 10:00:00</td>\n",
              "      <td>2.10</td>\n",
              "      <td>13313</td>\n",
              "      <td>24</td>\n",
              "    </tr>\n",
              "    <tr>\n",
              "      <th>4</th>\n",
              "      <td>539993</td>\n",
              "      <td>20718</td>\n",
              "      <td>RED RETROSPOT SHOPPER BAG</td>\n",
              "      <td>10.0</td>\n",
              "      <td>2020-01-04 10:00:00</td>\n",
              "      <td>1.25</td>\n",
              "      <td>13313</td>\n",
              "      <td>25</td>\n",
              "    </tr>\n",
              "  </tbody>\n",
              "</table>\n",
              "</div>"
            ],
            "text/plain": [
              "  InvoiceNo StockCode                Description  Quantity  \\\n",
              "0    539993     22386    JUMBO BAG PINK POLKADOT      10.0   \n",
              "1    539993     21499         BLUE POLKADOT WRAP      25.0   \n",
              "2    539993     21498        RED RETROSPOT WRAP       25.0   \n",
              "3    539993     22379   RECYCLING BAG RETROSPOT        5.0   \n",
              "4    539993     20718  RED RETROSPOT SHOPPER BAG      10.0   \n",
              "\n",
              "          InvoiceDate  UnitPrice CustomerID  des_len  \n",
              "0 2020-01-04 10:00:00       1.95      13313       23  \n",
              "1 2020-01-04 10:00:00       0.42      13313       18  \n",
              "2 2020-01-04 10:00:00       0.42      13313       19  \n",
              "3 2020-01-04 10:00:00       2.10      13313       24  \n",
              "4 2020-01-04 10:00:00       1.25      13313       25  "
            ]
          },
          "metadata": {
            "tags": []
          },
          "execution_count": 37
        }
      ]
    },
    {
      "cell_type": "code",
      "metadata": {
        "trusted": true,
        "colab": {
          "base_uri": "https://localhost:8080/"
        },
        "id": "H9-YIdvI_U19",
        "outputId": "1e8152ea-6e49-4802-bede-43c5c36951ad"
      },
      "source": [
        "data.des_len.describe()"
      ],
      "execution_count": null,
      "outputs": [
        {
          "output_type": "execute_result",
          "data": {
            "text/plain": [
              "count    286025.000000\n",
              "mean         26.527307\n",
              "std           5.340571\n",
              "min           7.000000\n",
              "25%          23.000000\n",
              "50%          27.000000\n",
              "75%          31.000000\n",
              "max          35.000000\n",
              "Name: des_len, dtype: float64"
            ]
          },
          "metadata": {
            "tags": []
          },
          "execution_count": 38
        }
      ]
    },
    {
      "cell_type": "code",
      "metadata": {
        "trusted": true,
        "colab": {
          "base_uri": "https://localhost:8080/",
          "height": 204
        },
        "id": "Ft_uNZGA_U19",
        "outputId": "e1d330d4-7917-4f78-bba7-ffb03f31e549"
      },
      "source": [
        "data[data.des_len < 10].head()"
      ],
      "execution_count": null,
      "outputs": [
        {
          "output_type": "execute_result",
          "data": {
            "text/html": [
              "<div>\n",
              "<style scoped>\n",
              "    .dataframe tbody tr th:only-of-type {\n",
              "        vertical-align: middle;\n",
              "    }\n",
              "\n",
              "    .dataframe tbody tr th {\n",
              "        vertical-align: top;\n",
              "    }\n",
              "\n",
              "    .dataframe thead th {\n",
              "        text-align: right;\n",
              "    }\n",
              "</style>\n",
              "<table border=\"1\" class=\"dataframe\">\n",
              "  <thead>\n",
              "    <tr style=\"text-align: right;\">\n",
              "      <th></th>\n",
              "      <th>InvoiceNo</th>\n",
              "      <th>StockCode</th>\n",
              "      <th>Description</th>\n",
              "      <th>Quantity</th>\n",
              "      <th>InvoiceDate</th>\n",
              "      <th>UnitPrice</th>\n",
              "      <th>CustomerID</th>\n",
              "      <th>des_len</th>\n",
              "    </tr>\n",
              "  </thead>\n",
              "  <tbody>\n",
              "    <tr>\n",
              "      <th>601</th>\n",
              "      <td>540026</td>\n",
              "      <td>21026</td>\n",
              "      <td>SPACE OWL</td>\n",
              "      <td>2.0</td>\n",
              "      <td>2020-01-04 13:25:00</td>\n",
              "      <td>0.85</td>\n",
              "      <td>NaN</td>\n",
              "      <td>9</td>\n",
              "    </tr>\n",
              "    <tr>\n",
              "      <th>1632</th>\n",
              "      <td>540154</td>\n",
              "      <td>21026</td>\n",
              "      <td>SPACE OWL</td>\n",
              "      <td>7.0</td>\n",
              "      <td>2020-01-05 11:30:00</td>\n",
              "      <td>0.85</td>\n",
              "      <td>NaN</td>\n",
              "      <td>9</td>\n",
              "    </tr>\n",
              "    <tr>\n",
              "      <th>2625</th>\n",
              "      <td>540248</td>\n",
              "      <td>21888</td>\n",
              "      <td>BINGO SET</td>\n",
              "      <td>2.0</td>\n",
              "      <td>2020-01-05 15:57:00</td>\n",
              "      <td>3.75</td>\n",
              "      <td>15034</td>\n",
              "      <td>9</td>\n",
              "    </tr>\n",
              "    <tr>\n",
              "      <th>3781</th>\n",
              "      <td>540352</td>\n",
              "      <td>21026</td>\n",
              "      <td>SPACE OWL</td>\n",
              "      <td>1.0</td>\n",
              "      <td>2020-01-06 14:27:00</td>\n",
              "      <td>0.85</td>\n",
              "      <td>NaN</td>\n",
              "      <td>9</td>\n",
              "    </tr>\n",
              "    <tr>\n",
              "      <th>4518</th>\n",
              "      <td>540372</td>\n",
              "      <td>62018</td>\n",
              "      <td>SOMBRERO</td>\n",
              "      <td>6.0</td>\n",
              "      <td>2020-01-06 16:41:00</td>\n",
              "      <td>1.95</td>\n",
              "      <td>13081</td>\n",
              "      <td>9</td>\n",
              "    </tr>\n",
              "  </tbody>\n",
              "</table>\n",
              "</div>"
            ],
            "text/plain": [
              "     InvoiceNo StockCode Description  Quantity         InvoiceDate  UnitPrice  \\\n",
              "601     540026     21026   SPACE OWL       2.0 2020-01-04 13:25:00       0.85   \n",
              "1632    540154     21026   SPACE OWL       7.0 2020-01-05 11:30:00       0.85   \n",
              "2625    540248     21888   BINGO SET       2.0 2020-01-05 15:57:00       3.75   \n",
              "3781    540352     21026   SPACE OWL       1.0 2020-01-06 14:27:00       0.85   \n",
              "4518    540372     62018   SOMBRERO        6.0 2020-01-06 16:41:00       1.95   \n",
              "\n",
              "     CustomerID  des_len  \n",
              "601         NaN        9  \n",
              "1632        NaN        9  \n",
              "2625      15034        9  \n",
              "3781        NaN        9  \n",
              "4518      13081        9  "
            ]
          },
          "metadata": {
            "tags": []
          },
          "execution_count": 39
        }
      ]
    },
    {
      "cell_type": "markdown",
      "metadata": {
        "id": "qUhG8wn2_U1-"
      },
      "source": [
        "everything looks normal"
      ]
    },
    {
      "cell_type": "markdown",
      "metadata": {
        "id": "zfSmzQ7o_U1-"
      },
      "source": [
        "next, let's see from the invoice number"
      ]
    },
    {
      "cell_type": "code",
      "metadata": {
        "trusted": true,
        "colab": {
          "base_uri": "https://localhost:8080/",
          "height": 289
        },
        "id": "QpzuUkT0_U1-",
        "outputId": "5fad8aea-e6c7-4a09-8d43-a57ec5967c02"
      },
      "source": [
        "data['noinvo_len'] = data.InvoiceNo.apply(lambda x: len(x))\n",
        "data.head()"
      ],
      "execution_count": null,
      "outputs": [
        {
          "output_type": "execute_result",
          "data": {
            "text/html": [
              "<div>\n",
              "<style scoped>\n",
              "    .dataframe tbody tr th:only-of-type {\n",
              "        vertical-align: middle;\n",
              "    }\n",
              "\n",
              "    .dataframe tbody tr th {\n",
              "        vertical-align: top;\n",
              "    }\n",
              "\n",
              "    .dataframe thead th {\n",
              "        text-align: right;\n",
              "    }\n",
              "</style>\n",
              "<table border=\"1\" class=\"dataframe\">\n",
              "  <thead>\n",
              "    <tr style=\"text-align: right;\">\n",
              "      <th></th>\n",
              "      <th>InvoiceNo</th>\n",
              "      <th>StockCode</th>\n",
              "      <th>Description</th>\n",
              "      <th>Quantity</th>\n",
              "      <th>InvoiceDate</th>\n",
              "      <th>UnitPrice</th>\n",
              "      <th>CustomerID</th>\n",
              "      <th>des_len</th>\n",
              "      <th>noinvo_len</th>\n",
              "    </tr>\n",
              "  </thead>\n",
              "  <tbody>\n",
              "    <tr>\n",
              "      <th>0</th>\n",
              "      <td>539993</td>\n",
              "      <td>22386</td>\n",
              "      <td>JUMBO BAG PINK POLKADOT</td>\n",
              "      <td>10.0</td>\n",
              "      <td>2020-01-04 10:00:00</td>\n",
              "      <td>1.95</td>\n",
              "      <td>13313</td>\n",
              "      <td>23</td>\n",
              "      <td>6</td>\n",
              "    </tr>\n",
              "    <tr>\n",
              "      <th>1</th>\n",
              "      <td>539993</td>\n",
              "      <td>21499</td>\n",
              "      <td>BLUE POLKADOT WRAP</td>\n",
              "      <td>25.0</td>\n",
              "      <td>2020-01-04 10:00:00</td>\n",
              "      <td>0.42</td>\n",
              "      <td>13313</td>\n",
              "      <td>18</td>\n",
              "      <td>6</td>\n",
              "    </tr>\n",
              "    <tr>\n",
              "      <th>2</th>\n",
              "      <td>539993</td>\n",
              "      <td>21498</td>\n",
              "      <td>RED RETROSPOT WRAP</td>\n",
              "      <td>25.0</td>\n",
              "      <td>2020-01-04 10:00:00</td>\n",
              "      <td>0.42</td>\n",
              "      <td>13313</td>\n",
              "      <td>19</td>\n",
              "      <td>6</td>\n",
              "    </tr>\n",
              "    <tr>\n",
              "      <th>3</th>\n",
              "      <td>539993</td>\n",
              "      <td>22379</td>\n",
              "      <td>RECYCLING BAG RETROSPOT</td>\n",
              "      <td>5.0</td>\n",
              "      <td>2020-01-04 10:00:00</td>\n",
              "      <td>2.10</td>\n",
              "      <td>13313</td>\n",
              "      <td>24</td>\n",
              "      <td>6</td>\n",
              "    </tr>\n",
              "    <tr>\n",
              "      <th>4</th>\n",
              "      <td>539993</td>\n",
              "      <td>20718</td>\n",
              "      <td>RED RETROSPOT SHOPPER BAG</td>\n",
              "      <td>10.0</td>\n",
              "      <td>2020-01-04 10:00:00</td>\n",
              "      <td>1.25</td>\n",
              "      <td>13313</td>\n",
              "      <td>25</td>\n",
              "      <td>6</td>\n",
              "    </tr>\n",
              "  </tbody>\n",
              "</table>\n",
              "</div>"
            ],
            "text/plain": [
              "  InvoiceNo StockCode                Description  Quantity  \\\n",
              "0    539993     22386    JUMBO BAG PINK POLKADOT      10.0   \n",
              "1    539993     21499         BLUE POLKADOT WRAP      25.0   \n",
              "2    539993     21498        RED RETROSPOT WRAP       25.0   \n",
              "3    539993     22379   RECYCLING BAG RETROSPOT        5.0   \n",
              "4    539993     20718  RED RETROSPOT SHOPPER BAG      10.0   \n",
              "\n",
              "          InvoiceDate  UnitPrice CustomerID  des_len  noinvo_len  \n",
              "0 2020-01-04 10:00:00       1.95      13313       23           6  \n",
              "1 2020-01-04 10:00:00       0.42      13313       18           6  \n",
              "2 2020-01-04 10:00:00       0.42      13313       19           6  \n",
              "3 2020-01-04 10:00:00       2.10      13313       24           6  \n",
              "4 2020-01-04 10:00:00       1.25      13313       25           6  "
            ]
          },
          "metadata": {
            "tags": []
          },
          "execution_count": 40
        }
      ]
    },
    {
      "cell_type": "code",
      "metadata": {
        "trusted": true,
        "colab": {
          "base_uri": "https://localhost:8080/"
        },
        "id": "xAIyqLGl_U1-",
        "outputId": "5753b3a7-3f86-47e3-a37c-895dd86b8002"
      },
      "source": [
        "data.noinvo_len.describe()"
      ],
      "execution_count": null,
      "outputs": [
        {
          "output_type": "execute_result",
          "data": {
            "text/plain": [
              "count    286025.0\n",
              "mean          6.0\n",
              "std           0.0\n",
              "min           6.0\n",
              "25%           6.0\n",
              "50%           6.0\n",
              "75%           6.0\n",
              "max           6.0\n",
              "Name: noinvo_len, dtype: float64"
            ]
          },
          "metadata": {
            "tags": []
          },
          "execution_count": 41
        }
      ]
    },
    {
      "cell_type": "markdown",
      "metadata": {
        "id": "3gAKEZRE_U1-"
      },
      "source": [
        "oke everything looks fine"
      ]
    },
    {
      "cell_type": "code",
      "metadata": {
        "trusted": true,
        "colab": {
          "base_uri": "https://localhost:8080/",
          "height": 204
        },
        "id": "pS11yHRG_U1-",
        "outputId": "66257629-2b79-4ea4-cfe7-3eddd139b5f3"
      },
      "source": [
        "data = data.drop(columns = ['des_len', 'noinvo_len'])\n",
        "data.head()"
      ],
      "execution_count": null,
      "outputs": [
        {
          "output_type": "execute_result",
          "data": {
            "text/html": [
              "<div>\n",
              "<style scoped>\n",
              "    .dataframe tbody tr th:only-of-type {\n",
              "        vertical-align: middle;\n",
              "    }\n",
              "\n",
              "    .dataframe tbody tr th {\n",
              "        vertical-align: top;\n",
              "    }\n",
              "\n",
              "    .dataframe thead th {\n",
              "        text-align: right;\n",
              "    }\n",
              "</style>\n",
              "<table border=\"1\" class=\"dataframe\">\n",
              "  <thead>\n",
              "    <tr style=\"text-align: right;\">\n",
              "      <th></th>\n",
              "      <th>InvoiceNo</th>\n",
              "      <th>StockCode</th>\n",
              "      <th>Description</th>\n",
              "      <th>Quantity</th>\n",
              "      <th>InvoiceDate</th>\n",
              "      <th>UnitPrice</th>\n",
              "      <th>CustomerID</th>\n",
              "    </tr>\n",
              "  </thead>\n",
              "  <tbody>\n",
              "    <tr>\n",
              "      <th>0</th>\n",
              "      <td>539993</td>\n",
              "      <td>22386</td>\n",
              "      <td>JUMBO BAG PINK POLKADOT</td>\n",
              "      <td>10.0</td>\n",
              "      <td>2020-01-04 10:00:00</td>\n",
              "      <td>1.95</td>\n",
              "      <td>13313</td>\n",
              "    </tr>\n",
              "    <tr>\n",
              "      <th>1</th>\n",
              "      <td>539993</td>\n",
              "      <td>21499</td>\n",
              "      <td>BLUE POLKADOT WRAP</td>\n",
              "      <td>25.0</td>\n",
              "      <td>2020-01-04 10:00:00</td>\n",
              "      <td>0.42</td>\n",
              "      <td>13313</td>\n",
              "    </tr>\n",
              "    <tr>\n",
              "      <th>2</th>\n",
              "      <td>539993</td>\n",
              "      <td>21498</td>\n",
              "      <td>RED RETROSPOT WRAP</td>\n",
              "      <td>25.0</td>\n",
              "      <td>2020-01-04 10:00:00</td>\n",
              "      <td>0.42</td>\n",
              "      <td>13313</td>\n",
              "    </tr>\n",
              "    <tr>\n",
              "      <th>3</th>\n",
              "      <td>539993</td>\n",
              "      <td>22379</td>\n",
              "      <td>RECYCLING BAG RETROSPOT</td>\n",
              "      <td>5.0</td>\n",
              "      <td>2020-01-04 10:00:00</td>\n",
              "      <td>2.10</td>\n",
              "      <td>13313</td>\n",
              "    </tr>\n",
              "    <tr>\n",
              "      <th>4</th>\n",
              "      <td>539993</td>\n",
              "      <td>20718</td>\n",
              "      <td>RED RETROSPOT SHOPPER BAG</td>\n",
              "      <td>10.0</td>\n",
              "      <td>2020-01-04 10:00:00</td>\n",
              "      <td>1.25</td>\n",
              "      <td>13313</td>\n",
              "    </tr>\n",
              "  </tbody>\n",
              "</table>\n",
              "</div>"
            ],
            "text/plain": [
              "  InvoiceNo StockCode                Description  Quantity  \\\n",
              "0    539993     22386    JUMBO BAG PINK POLKADOT      10.0   \n",
              "1    539993     21499         BLUE POLKADOT WRAP      25.0   \n",
              "2    539993     21498        RED RETROSPOT WRAP       25.0   \n",
              "3    539993     22379   RECYCLING BAG RETROSPOT        5.0   \n",
              "4    539993     20718  RED RETROSPOT SHOPPER BAG      10.0   \n",
              "\n",
              "          InvoiceDate  UnitPrice CustomerID  \n",
              "0 2020-01-04 10:00:00       1.95      13313  \n",
              "1 2020-01-04 10:00:00       0.42      13313  \n",
              "2 2020-01-04 10:00:00       0.42      13313  \n",
              "3 2020-01-04 10:00:00       2.10      13313  \n",
              "4 2020-01-04 10:00:00       1.25      13313  "
            ]
          },
          "metadata": {
            "tags": []
          },
          "execution_count": 42
        }
      ]
    },
    {
      "cell_type": "markdown",
      "metadata": {
        "id": "mFt8mnTf_U1_"
      },
      "source": [
        "Before moving forward, i want to replace null value in customer id to guest, just in case."
      ]
    },
    {
      "cell_type": "code",
      "metadata": {
        "trusted": true,
        "colab": {
          "base_uri": "https://localhost:8080/",
          "height": 204
        },
        "id": "uIULD-WX_U1_",
        "outputId": "0271d426-295a-48a1-e01c-7831e92d7aa0"
      },
      "source": [
        "value = {'CustomerID':'Guest'}\n",
        "data = data.fillna(value = value)\n",
        "data[data.CustomerID == 'Guest'].head()"
      ],
      "execution_count": null,
      "outputs": [
        {
          "output_type": "execute_result",
          "data": {
            "text/html": [
              "<div>\n",
              "<style scoped>\n",
              "    .dataframe tbody tr th:only-of-type {\n",
              "        vertical-align: middle;\n",
              "    }\n",
              "\n",
              "    .dataframe tbody tr th {\n",
              "        vertical-align: top;\n",
              "    }\n",
              "\n",
              "    .dataframe thead th {\n",
              "        text-align: right;\n",
              "    }\n",
              "</style>\n",
              "<table border=\"1\" class=\"dataframe\">\n",
              "  <thead>\n",
              "    <tr style=\"text-align: right;\">\n",
              "      <th></th>\n",
              "      <th>InvoiceNo</th>\n",
              "      <th>StockCode</th>\n",
              "      <th>Description</th>\n",
              "      <th>Quantity</th>\n",
              "      <th>InvoiceDate</th>\n",
              "      <th>UnitPrice</th>\n",
              "      <th>CustomerID</th>\n",
              "    </tr>\n",
              "  </thead>\n",
              "  <tbody>\n",
              "    <tr>\n",
              "      <th>404</th>\n",
              "      <td>540026</td>\n",
              "      <td>22215</td>\n",
              "      <td>CAKE STAND WHITE TWO TIER LACE</td>\n",
              "      <td>1.0</td>\n",
              "      <td>2020-01-04 13:25:00</td>\n",
              "      <td>16.98</td>\n",
              "      <td>Guest</td>\n",
              "    </tr>\n",
              "    <tr>\n",
              "      <th>405</th>\n",
              "      <td>540026</td>\n",
              "      <td>85035B</td>\n",
              "      <td>CHOCOLATE 3 WICK MORRIS BOX CANDLE</td>\n",
              "      <td>1.0</td>\n",
              "      <td>2020-01-04 13:25:00</td>\n",
              "      <td>3.36</td>\n",
              "      <td>Guest</td>\n",
              "    </tr>\n",
              "    <tr>\n",
              "      <th>406</th>\n",
              "      <td>540026</td>\n",
              "      <td>85203</td>\n",
              "      <td>HANGING WOOD AND FELT BUTTERFLY</td>\n",
              "      <td>3.0</td>\n",
              "      <td>2020-01-04 13:25:00</td>\n",
              "      <td>0.43</td>\n",
              "      <td>Guest</td>\n",
              "    </tr>\n",
              "    <tr>\n",
              "      <th>407</th>\n",
              "      <td>540026</td>\n",
              "      <td>22216</td>\n",
              "      <td>T-LIGHT HOLDER WHITE LACE</td>\n",
              "      <td>5.0</td>\n",
              "      <td>2020-01-04 13:25:00</td>\n",
              "      <td>0.81</td>\n",
              "      <td>Guest</td>\n",
              "    </tr>\n",
              "    <tr>\n",
              "      <th>408</th>\n",
              "      <td>540026</td>\n",
              "      <td>22219</td>\n",
              "      <td>LOVEBIRD HANGING DECORATION WHITE</td>\n",
              "      <td>1.0</td>\n",
              "      <td>2020-01-04 13:25:00</td>\n",
              "      <td>1.66</td>\n",
              "      <td>Guest</td>\n",
              "    </tr>\n",
              "  </tbody>\n",
              "</table>\n",
              "</div>"
            ],
            "text/plain": [
              "    InvoiceNo StockCode                         Description  Quantity  \\\n",
              "404    540026     22215      CAKE STAND WHITE TWO TIER LACE       1.0   \n",
              "405    540026    85035B  CHOCOLATE 3 WICK MORRIS BOX CANDLE       1.0   \n",
              "406    540026     85203    HANGING WOOD AND FELT BUTTERFLY        3.0   \n",
              "407    540026     22216           T-LIGHT HOLDER WHITE LACE       5.0   \n",
              "408    540026     22219  LOVEBIRD HANGING DECORATION WHITE        1.0   \n",
              "\n",
              "            InvoiceDate  UnitPrice CustomerID  \n",
              "404 2020-01-04 13:25:00      16.98      Guest  \n",
              "405 2020-01-04 13:25:00       3.36      Guest  \n",
              "406 2020-01-04 13:25:00       0.43      Guest  \n",
              "407 2020-01-04 13:25:00       0.81      Guest  \n",
              "408 2020-01-04 13:25:00       1.66      Guest  "
            ]
          },
          "metadata": {
            "tags": []
          },
          "execution_count": 43
        }
      ]
    },
    {
      "cell_type": "markdown",
      "metadata": {
        "id": "uSZxOhVt_U1_"
      },
      "source": [
        "# **Data Mining**"
      ]
    },
    {
      "cell_type": "markdown",
      "metadata": {
        "id": "T4KSgMRZ_U1_"
      },
      "source": [
        "Enriching Data:\n",
        "\n",
        "Adding 'TotalPrice' column"
      ]
    },
    {
      "cell_type": "code",
      "metadata": {
        "trusted": true,
        "colab": {
          "base_uri": "https://localhost:8080/"
        },
        "id": "byN3NAgM_U1_",
        "outputId": "1866035d-9152-4118-ee9f-7e6cfe7f4220"
      },
      "source": [
        "data['TotalPrice'] = data.Quantity * data.UnitPrice\n",
        "data.shape"
      ],
      "execution_count": null,
      "outputs": [
        {
          "output_type": "execute_result",
          "data": {
            "text/plain": [
              "(286025, 8)"
            ]
          },
          "metadata": {
            "tags": []
          },
          "execution_count": 44
        }
      ]
    },
    {
      "cell_type": "markdown",
      "metadata": {
        "id": "sbRZ2MOS_U1_"
      },
      "source": [
        "# Customer Segmentation"
      ]
    },
    {
      "cell_type": "markdown",
      "metadata": {
        "id": "FLIGTjHQ_U2A"
      },
      "source": [
        "I want to know who is our customer really is, based on their purchase behavior. Let's group them so how much our customer for each time purchase."
      ]
    },
    {
      "cell_type": "code",
      "metadata": {
        "trusted": true,
        "colab": {
          "base_uri": "https://localhost:8080/",
          "height": 235
        },
        "id": "ntN6mIzp_U2A",
        "outputId": "a812329f-af1f-4886-d213-1af5e724b867"
      },
      "source": [
        "data2 = data.groupby(['InvoiceNo','InvoiceDate','CustomerID']).sum()\n",
        "data2 = data2.drop(columns = 'UnitPrice')\n",
        "data2.head()"
      ],
      "execution_count": null,
      "outputs": [
        {
          "output_type": "execute_result",
          "data": {
            "text/html": [
              "<div>\n",
              "<style scoped>\n",
              "    .dataframe tbody tr th:only-of-type {\n",
              "        vertical-align: middle;\n",
              "    }\n",
              "\n",
              "    .dataframe tbody tr th {\n",
              "        vertical-align: top;\n",
              "    }\n",
              "\n",
              "    .dataframe thead th {\n",
              "        text-align: right;\n",
              "    }\n",
              "</style>\n",
              "<table border=\"1\" class=\"dataframe\">\n",
              "  <thead>\n",
              "    <tr style=\"text-align: right;\">\n",
              "      <th></th>\n",
              "      <th></th>\n",
              "      <th></th>\n",
              "      <th>Quantity</th>\n",
              "      <th>TotalPrice</th>\n",
              "    </tr>\n",
              "    <tr>\n",
              "      <th>InvoiceNo</th>\n",
              "      <th>InvoiceDate</th>\n",
              "      <th>CustomerID</th>\n",
              "      <th></th>\n",
              "      <th></th>\n",
              "    </tr>\n",
              "  </thead>\n",
              "  <tbody>\n",
              "    <tr>\n",
              "      <th>539993</th>\n",
              "      <th>2020-01-04 10:00:00</th>\n",
              "      <th>13313</th>\n",
              "      <td>171.0</td>\n",
              "      <td>307.30</td>\n",
              "    </tr>\n",
              "    <tr>\n",
              "      <th>540001</th>\n",
              "      <th>2020-01-04 10:22:00</th>\n",
              "      <th>18097</th>\n",
              "      <td>270.0</td>\n",
              "      <td>474.66</td>\n",
              "    </tr>\n",
              "    <tr>\n",
              "      <th>540002</th>\n",
              "      <th>2020-01-04 10:23:00</th>\n",
              "      <th>16656</th>\n",
              "      <td>188.0</td>\n",
              "      <td>310.28</td>\n",
              "    </tr>\n",
              "    <tr>\n",
              "      <th>540003</th>\n",
              "      <th>2020-01-04 10:37:00</th>\n",
              "      <th>16875</th>\n",
              "      <td>140.0</td>\n",
              "      <td>368.80</td>\n",
              "    </tr>\n",
              "    <tr>\n",
              "      <th>540004</th>\n",
              "      <th>2020-01-04 10:37:00</th>\n",
              "      <th>13094</th>\n",
              "      <td>72.0</td>\n",
              "      <td>76.32</td>\n",
              "    </tr>\n",
              "  </tbody>\n",
              "</table>\n",
              "</div>"
            ],
            "text/plain": [
              "                                          Quantity  TotalPrice\n",
              "InvoiceNo InvoiceDate         CustomerID                      \n",
              "539993    2020-01-04 10:00:00 13313          171.0      307.30\n",
              "540001    2020-01-04 10:22:00 18097          270.0      474.66\n",
              "540002    2020-01-04 10:23:00 16656          188.0      310.28\n",
              "540003    2020-01-04 10:37:00 16875          140.0      368.80\n",
              "540004    2020-01-04 10:37:00 13094           72.0       76.32"
            ]
          },
          "metadata": {
            "tags": []
          },
          "execution_count": 45
        }
      ]
    },
    {
      "cell_type": "markdown",
      "metadata": {
        "id": "OqDggQkD_U2A"
      },
      "source": [
        "As stated in the study case, we have a limited budget. So before rolling out promo, let's narrow our scope to focus more only to our majority of customer."
      ]
    },
    {
      "cell_type": "code",
      "metadata": {
        "trusted": true,
        "colab": {
          "base_uri": "https://localhost:8080/",
          "height": 297
        },
        "id": "vuwkTHju_U2A",
        "outputId": "e0a64598-8120-4bc3-b360-a15c2dc46187"
      },
      "source": [
        "data2.describe()"
      ],
      "execution_count": null,
      "outputs": [
        {
          "output_type": "execute_result",
          "data": {
            "text/html": [
              "<div>\n",
              "<style scoped>\n",
              "    .dataframe tbody tr th:only-of-type {\n",
              "        vertical-align: middle;\n",
              "    }\n",
              "\n",
              "    .dataframe tbody tr th {\n",
              "        vertical-align: top;\n",
              "    }\n",
              "\n",
              "    .dataframe thead th {\n",
              "        text-align: right;\n",
              "    }\n",
              "</style>\n",
              "<table border=\"1\" class=\"dataframe\">\n",
              "  <thead>\n",
              "    <tr style=\"text-align: right;\">\n",
              "      <th></th>\n",
              "      <th>Quantity</th>\n",
              "      <th>TotalPrice</th>\n",
              "    </tr>\n",
              "  </thead>\n",
              "  <tbody>\n",
              "    <tr>\n",
              "      <th>count</th>\n",
              "      <td>10218.000000</td>\n",
              "      <td>10218.000000</td>\n",
              "    </tr>\n",
              "    <tr>\n",
              "      <th>mean</th>\n",
              "      <td>154.518693</td>\n",
              "      <td>305.097392</td>\n",
              "    </tr>\n",
              "    <tr>\n",
              "      <th>std</th>\n",
              "      <td>117.798556</td>\n",
              "      <td>250.815405</td>\n",
              "    </tr>\n",
              "    <tr>\n",
              "      <th>min</th>\n",
              "      <td>1.000000</td>\n",
              "      <td>0.550000</td>\n",
              "    </tr>\n",
              "    <tr>\n",
              "      <th>25%</th>\n",
              "      <td>60.000000</td>\n",
              "      <td>135.907500</td>\n",
              "    </tr>\n",
              "    <tr>\n",
              "      <th>50%</th>\n",
              "      <td>127.000000</td>\n",
              "      <td>262.675000</td>\n",
              "    </tr>\n",
              "    <tr>\n",
              "      <th>75%</th>\n",
              "      <td>228.000000</td>\n",
              "      <td>393.337500</td>\n",
              "    </tr>\n",
              "    <tr>\n",
              "      <th>max</th>\n",
              "      <td>469.000000</td>\n",
              "      <td>2295.740000</td>\n",
              "    </tr>\n",
              "  </tbody>\n",
              "</table>\n",
              "</div>"
            ],
            "text/plain": [
              "           Quantity    TotalPrice\n",
              "count  10218.000000  10218.000000\n",
              "mean     154.518693    305.097392\n",
              "std      117.798556    250.815405\n",
              "min        1.000000      0.550000\n",
              "25%       60.000000    135.907500\n",
              "50%      127.000000    262.675000\n",
              "75%      228.000000    393.337500\n",
              "max      469.000000   2295.740000"
            ]
          },
          "metadata": {
            "tags": []
          },
          "execution_count": 61
        }
      ]
    },
    {
      "cell_type": "markdown",
      "metadata": {
        "id": "AElMe5BU_U2A"
      },
      "source": [
        "Based on the data, for now we know that our customer are mainly a reseller."
      ]
    },
    {
      "cell_type": "markdown",
      "metadata": {
        "id": "dyaRs5CK_U2A"
      },
      "source": [
        "As stated in the study case, we have a limited budget. Thus, before rolling out promo, let's narrow our scope to focus more only to our majority of customer. So let's see the outliers and remove them."
      ]
    },
    {
      "cell_type": "code",
      "metadata": {
        "trusted": true,
        "id": "9pSH22Id_U2B"
      },
      "source": [
        "from scipy.stats import skew"
      ],
      "execution_count": null,
      "outputs": []
    },
    {
      "cell_type": "code",
      "metadata": {
        "trusted": true,
        "colab": {
          "base_uri": "https://localhost:8080/"
        },
        "id": "NWMQ0OU1_U2B",
        "outputId": "daddc11e-d2d2-4ec2-a6c8-33e41e059701"
      },
      "source": [
        "skew(data2.TotalPrice)"
      ],
      "execution_count": null,
      "outputs": [
        {
          "output_type": "execute_result",
          "data": {
            "text/plain": [
              "2.131801280355203"
            ]
          },
          "metadata": {
            "tags": []
          },
          "execution_count": 62
        }
      ]
    },
    {
      "cell_type": "markdown",
      "metadata": {
        "id": "ZwprZCYr_U2C"
      },
      "source": [
        "Data is highly skewed, let's remove the outlier with this formula: mean-stddev <= data <= mean+stddev"
      ]
    },
    {
      "cell_type": "code",
      "metadata": {
        "trusted": true,
        "id": "3Bd6HcSR_U2C"
      },
      "source": [
        "data2 = data2.query('TotalPrice >= 0 and TotalPrice <= 518.593623 + 1799.695926')\n",
        "#we use 0 because the mean-stddev is minus, so instead we just use zero"
      ],
      "execution_count": null,
      "outputs": []
    },
    {
      "cell_type": "code",
      "metadata": {
        "trusted": true,
        "colab": {
          "base_uri": "https://localhost:8080/",
          "height": 297
        },
        "id": "tpN0YTIn_U2C",
        "outputId": "17cd4f8d-1acd-480e-bf58-fadce0c46ab4"
      },
      "source": [
        "data2.describe()"
      ],
      "execution_count": null,
      "outputs": [
        {
          "output_type": "execute_result",
          "data": {
            "text/html": [
              "<div>\n",
              "<style scoped>\n",
              "    .dataframe tbody tr th:only-of-type {\n",
              "        vertical-align: middle;\n",
              "    }\n",
              "\n",
              "    .dataframe tbody tr th {\n",
              "        vertical-align: top;\n",
              "    }\n",
              "\n",
              "    .dataframe thead th {\n",
              "        text-align: right;\n",
              "    }\n",
              "</style>\n",
              "<table border=\"1\" class=\"dataframe\">\n",
              "  <thead>\n",
              "    <tr style=\"text-align: right;\">\n",
              "      <th></th>\n",
              "      <th>Quantity</th>\n",
              "      <th>TotalPrice</th>\n",
              "    </tr>\n",
              "  </thead>\n",
              "  <tbody>\n",
              "    <tr>\n",
              "      <th>count</th>\n",
              "      <td>10218.000000</td>\n",
              "      <td>10218.000000</td>\n",
              "    </tr>\n",
              "    <tr>\n",
              "      <th>mean</th>\n",
              "      <td>154.518693</td>\n",
              "      <td>305.097392</td>\n",
              "    </tr>\n",
              "    <tr>\n",
              "      <th>std</th>\n",
              "      <td>117.798556</td>\n",
              "      <td>250.815405</td>\n",
              "    </tr>\n",
              "    <tr>\n",
              "      <th>min</th>\n",
              "      <td>1.000000</td>\n",
              "      <td>0.550000</td>\n",
              "    </tr>\n",
              "    <tr>\n",
              "      <th>25%</th>\n",
              "      <td>60.000000</td>\n",
              "      <td>135.907500</td>\n",
              "    </tr>\n",
              "    <tr>\n",
              "      <th>50%</th>\n",
              "      <td>127.000000</td>\n",
              "      <td>262.675000</td>\n",
              "    </tr>\n",
              "    <tr>\n",
              "      <th>75%</th>\n",
              "      <td>228.000000</td>\n",
              "      <td>393.337500</td>\n",
              "    </tr>\n",
              "    <tr>\n",
              "      <th>max</th>\n",
              "      <td>469.000000</td>\n",
              "      <td>2295.740000</td>\n",
              "    </tr>\n",
              "  </tbody>\n",
              "</table>\n",
              "</div>"
            ],
            "text/plain": [
              "           Quantity    TotalPrice\n",
              "count  10218.000000  10218.000000\n",
              "mean     154.518693    305.097392\n",
              "std      117.798556    250.815405\n",
              "min        1.000000      0.550000\n",
              "25%       60.000000    135.907500\n",
              "50%      127.000000    262.675000\n",
              "75%      228.000000    393.337500\n",
              "max      469.000000   2295.740000"
            ]
          },
          "metadata": {
            "tags": []
          },
          "execution_count": 63
        }
      ]
    },
    {
      "cell_type": "code",
      "metadata": {
        "trusted": true,
        "colab": {
          "base_uri": "https://localhost:8080/",
          "height": 350
        },
        "id": "w5ATdkaP_U2C",
        "outputId": "9fd85f3d-927b-4b44-c620-4c5ff6848fac"
      },
      "source": [
        "sns.boxplot(data2.TotalPrice)"
      ],
      "execution_count": null,
      "outputs": [
        {
          "output_type": "stream",
          "text": [
            "/usr/local/lib/python3.7/dist-packages/seaborn/_decorators.py:43: FutureWarning: Pass the following variable as a keyword arg: x. From version 0.12, the only valid positional argument will be `data`, and passing other arguments without an explicit keyword will result in an error or misinterpretation.\n",
            "  FutureWarning\n"
          ],
          "name": "stderr"
        },
        {
          "output_type": "execute_result",
          "data": {
            "text/plain": [
              "<matplotlib.axes._subplots.AxesSubplot at 0x7ff14c7a91d0>"
            ]
          },
          "metadata": {
            "tags": []
          },
          "execution_count": 64
        },
        {
          "output_type": "display_data",
          "data": {
            "image/png": "[encoded data removed]",
            "text/plain": [
              "<Figure size 432x288 with 1 Axes>"
            ]
          },
          "metadata": {
            "tags": [],
            "needs_background": "light"
          }
        }
      ]
    },
    {
      "cell_type": "code",
      "metadata": {
        "trusted": true,
        "colab": {
          "base_uri": "https://localhost:8080/",
          "height": 386
        },
        "id": "T9Wtp-IS_U2C",
        "outputId": "682475d4-c584-4271-9d2c-5ac33ba325cc"
      },
      "source": [
        "sns.displot(data2.TotalPrice)"
      ],
      "execution_count": null,
      "outputs": [
        {
          "output_type": "execute_result",
          "data": {
            "text/plain": [
              "<seaborn.axisgrid.FacetGrid at 0x7ff1438a7450>"
            ]
          },
          "metadata": {
            "tags": []
          },
          "execution_count": 65
        },
        {
          "output_type": "display_data",
          "data": {
            "image/png": "[encoded data removed]",
            "text/plain": [
              "<Figure size 360x360 with 1 Axes>"
            ]
          },
          "metadata": {
            "tags": [],
            "needs_background": "light"
          }
        }
      ]
    },
    {
      "cell_type": "code",
      "metadata": {
        "trusted": true,
        "colab": {
          "base_uri": "https://localhost:8080/"
        },
        "id": "sa1hF8zg_U2D",
        "outputId": "5dc50fc1-39b9-4e59-a797-5227099f7780"
      },
      "source": [
        "skew(data2.Quantity)"
      ],
      "execution_count": null,
      "outputs": [
        {
          "output_type": "execute_result",
          "data": {
            "text/plain": [
              "0.7559864581938924"
            ]
          },
          "metadata": {
            "tags": []
          },
          "execution_count": 66
        }
      ]
    },
    {
      "cell_type": "markdown",
      "metadata": {
        "id": "Tz1YlcVt_U2D"
      },
      "source": [
        "let's also remove the outlier in quantity"
      ]
    },
    {
      "cell_type": "code",
      "metadata": {
        "trusted": true,
        "colab": {
          "base_uri": "https://localhost:8080/",
          "height": 297
        },
        "id": "SS77obXf_U2D",
        "outputId": "cda58845-09d9-461c-f65c-538497f3f1e0"
      },
      "source": [
        "data2 = data2.query('Quantity >= 0  and Quantity <= 220.835074 + 248.776217')\n",
        "data2.describe()"
      ],
      "execution_count": null,
      "outputs": [
        {
          "output_type": "execute_result",
          "data": {
            "text/html": [
              "<div>\n",
              "<style scoped>\n",
              "    .dataframe tbody tr th:only-of-type {\n",
              "        vertical-align: middle;\n",
              "    }\n",
              "\n",
              "    .dataframe tbody tr th {\n",
              "        vertical-align: top;\n",
              "    }\n",
              "\n",
              "    .dataframe thead th {\n",
              "        text-align: right;\n",
              "    }\n",
              "</style>\n",
              "<table border=\"1\" class=\"dataframe\">\n",
              "  <thead>\n",
              "    <tr style=\"text-align: right;\">\n",
              "      <th></th>\n",
              "      <th>Quantity</th>\n",
              "      <th>TotalPrice</th>\n",
              "    </tr>\n",
              "  </thead>\n",
              "  <tbody>\n",
              "    <tr>\n",
              "      <th>count</th>\n",
              "      <td>10218.000000</td>\n",
              "      <td>10218.000000</td>\n",
              "    </tr>\n",
              "    <tr>\n",
              "      <th>mean</th>\n",
              "      <td>154.518693</td>\n",
              "      <td>305.097392</td>\n",
              "    </tr>\n",
              "    <tr>\n",
              "      <th>std</th>\n",
              "      <td>117.798556</td>\n",
              "      <td>250.815405</td>\n",
              "    </tr>\n",
              "    <tr>\n",
              "      <th>min</th>\n",
              "      <td>1.000000</td>\n",
              "      <td>0.550000</td>\n",
              "    </tr>\n",
              "    <tr>\n",
              "      <th>25%</th>\n",
              "      <td>60.000000</td>\n",
              "      <td>135.907500</td>\n",
              "    </tr>\n",
              "    <tr>\n",
              "      <th>50%</th>\n",
              "      <td>127.000000</td>\n",
              "      <td>262.675000</td>\n",
              "    </tr>\n",
              "    <tr>\n",
              "      <th>75%</th>\n",
              "      <td>228.000000</td>\n",
              "      <td>393.337500</td>\n",
              "    </tr>\n",
              "    <tr>\n",
              "      <th>max</th>\n",
              "      <td>469.000000</td>\n",
              "      <td>2295.740000</td>\n",
              "    </tr>\n",
              "  </tbody>\n",
              "</table>\n",
              "</div>"
            ],
            "text/plain": [
              "           Quantity    TotalPrice\n",
              "count  10218.000000  10218.000000\n",
              "mean     154.518693    305.097392\n",
              "std      117.798556    250.815405\n",
              "min        1.000000      0.550000\n",
              "25%       60.000000    135.907500\n",
              "50%      127.000000    262.675000\n",
              "75%      228.000000    393.337500\n",
              "max      469.000000   2295.740000"
            ]
          },
          "metadata": {
            "tags": []
          },
          "execution_count": 67
        }
      ]
    },
    {
      "cell_type": "code",
      "metadata": {
        "trusted": true,
        "colab": {
          "base_uri": "https://localhost:8080/"
        },
        "id": "TsS9bmSC_U2D",
        "outputId": "aa99a35c-b1ff-4054-8426-41c2ceeb7d84"
      },
      "source": [
        "print(skew(data2.TotalPrice))\n",
        "print(skew(data2.Quantity))"
      ],
      "execution_count": null,
      "outputs": [
        {
          "output_type": "stream",
          "text": [
            "2.131801280355203\n",
            "0.7559864581938924\n"
          ],
          "name": "stdout"
        }
      ]
    },
    {
      "cell_type": "markdown",
      "metadata": {
        "id": "-BIr6hCo_U2D"
      },
      "source": [
        "ok since it looks pretty much all right, now we have a smaller scope and we will focus on this kind of customer "
      ]
    },
    {
      "cell_type": "code",
      "metadata": {
        "trusted": true,
        "colab": {
          "base_uri": "https://localhost:8080/",
          "height": 350
        },
        "id": "r0eCEYjE_U2E",
        "outputId": "4972583b-0a27-45b7-8a12-46537108fa06"
      },
      "source": [
        "sns.boxplot(data2.TotalPrice)"
      ],
      "execution_count": null,
      "outputs": [
        {
          "output_type": "stream",
          "text": [
            "/usr/local/lib/python3.7/dist-packages/seaborn/_decorators.py:43: FutureWarning: Pass the following variable as a keyword arg: x. From version 0.12, the only valid positional argument will be `data`, and passing other arguments without an explicit keyword will result in an error or misinterpretation.\n",
            "  FutureWarning\n"
          ],
          "name": "stderr"
        },
        {
          "output_type": "execute_result",
          "data": {
            "text/plain": [
              "<matplotlib.axes._subplots.AxesSubplot at 0x7ff1437b6450>"
            ]
          },
          "metadata": {
            "tags": []
          },
          "execution_count": 69
        },
        {
          "output_type": "display_data",
          "data": {
            "image/png": "[encoded data removed]",
            "text/plain": [
              "<Figure size 432x288 with 1 Axes>"
            ]
          },
          "metadata": {
            "tags": [],
            "needs_background": "light"
          }
        }
      ]
    },
    {
      "cell_type": "markdown",
      "metadata": {
        "id": "n5DQ_g5p_U2E"
      },
      "source": [
        "Ok now let's filter our main table, only with the data that we already sort before."
      ]
    },
    {
      "cell_type": "code",
      "metadata": {
        "trusted": true,
        "id": "7-aiISr2_U2E"
      },
      "source": [
        "data2 = data2.reset_index()\n",
        "invoice = data2['InvoiceNo'].tolist()"
      ],
      "execution_count": null,
      "outputs": []
    },
    {
      "cell_type": "code",
      "metadata": {
        "trusted": true,
        "id": "ybTx0rDM_U2F"
      },
      "source": [
        "data = data[data.InvoiceNo.isin(invoice)]"
      ],
      "execution_count": null,
      "outputs": []
    },
    {
      "cell_type": "code",
      "metadata": {
        "trusted": true,
        "colab": {
          "base_uri": "https://localhost:8080/",
          "height": 204
        },
        "id": "d_S6vWOs_U2F",
        "outputId": "a92b899b-6af4-4e67-896d-2c112efe06e6"
      },
      "source": [
        "data.head()"
      ],
      "execution_count": null,
      "outputs": [
        {
          "output_type": "execute_result",
          "data": {
            "text/html": [
              "<div>\n",
              "<style scoped>\n",
              "    .dataframe tbody tr th:only-of-type {\n",
              "        vertical-align: middle;\n",
              "    }\n",
              "\n",
              "    .dataframe tbody tr th {\n",
              "        vertical-align: top;\n",
              "    }\n",
              "\n",
              "    .dataframe thead th {\n",
              "        text-align: right;\n",
              "    }\n",
              "</style>\n",
              "<table border=\"1\" class=\"dataframe\">\n",
              "  <thead>\n",
              "    <tr style=\"text-align: right;\">\n",
              "      <th></th>\n",
              "      <th>InvoiceNo</th>\n",
              "      <th>StockCode</th>\n",
              "      <th>Description</th>\n",
              "      <th>Quantity</th>\n",
              "      <th>InvoiceDate</th>\n",
              "      <th>UnitPrice</th>\n",
              "      <th>CustomerID</th>\n",
              "      <th>TotalPrice</th>\n",
              "    </tr>\n",
              "  </thead>\n",
              "  <tbody>\n",
              "    <tr>\n",
              "      <th>0</th>\n",
              "      <td>539993</td>\n",
              "      <td>22386</td>\n",
              "      <td>JUMBO BAG PINK POLKADOT</td>\n",
              "      <td>10.0</td>\n",
              "      <td>2020-01-04 10:00:00</td>\n",
              "      <td>1.95</td>\n",
              "      <td>13313</td>\n",
              "      <td>19.5</td>\n",
              "    </tr>\n",
              "    <tr>\n",
              "      <th>1</th>\n",
              "      <td>539993</td>\n",
              "      <td>21499</td>\n",
              "      <td>BLUE POLKADOT WRAP</td>\n",
              "      <td>25.0</td>\n",
              "      <td>2020-01-04 10:00:00</td>\n",
              "      <td>0.42</td>\n",
              "      <td>13313</td>\n",
              "      <td>10.5</td>\n",
              "    </tr>\n",
              "    <tr>\n",
              "      <th>2</th>\n",
              "      <td>539993</td>\n",
              "      <td>21498</td>\n",
              "      <td>RED RETROSPOT WRAP</td>\n",
              "      <td>25.0</td>\n",
              "      <td>2020-01-04 10:00:00</td>\n",
              "      <td>0.42</td>\n",
              "      <td>13313</td>\n",
              "      <td>10.5</td>\n",
              "    </tr>\n",
              "    <tr>\n",
              "      <th>3</th>\n",
              "      <td>539993</td>\n",
              "      <td>22379</td>\n",
              "      <td>RECYCLING BAG RETROSPOT</td>\n",
              "      <td>5.0</td>\n",
              "      <td>2020-01-04 10:00:00</td>\n",
              "      <td>2.10</td>\n",
              "      <td>13313</td>\n",
              "      <td>10.5</td>\n",
              "    </tr>\n",
              "    <tr>\n",
              "      <th>4</th>\n",
              "      <td>539993</td>\n",
              "      <td>20718</td>\n",
              "      <td>RED RETROSPOT SHOPPER BAG</td>\n",
              "      <td>10.0</td>\n",
              "      <td>2020-01-04 10:00:00</td>\n",
              "      <td>1.25</td>\n",
              "      <td>13313</td>\n",
              "      <td>12.5</td>\n",
              "    </tr>\n",
              "  </tbody>\n",
              "</table>\n",
              "</div>"
            ],
            "text/plain": [
              "  InvoiceNo StockCode                Description  Quantity  \\\n",
              "0    539993     22386    JUMBO BAG PINK POLKADOT      10.0   \n",
              "1    539993     21499         BLUE POLKADOT WRAP      25.0   \n",
              "2    539993     21498        RED RETROSPOT WRAP       25.0   \n",
              "3    539993     22379   RECYCLING BAG RETROSPOT        5.0   \n",
              "4    539993     20718  RED RETROSPOT SHOPPER BAG      10.0   \n",
              "\n",
              "          InvoiceDate  UnitPrice CustomerID  TotalPrice  \n",
              "0 2020-01-04 10:00:00       1.95      13313        19.5  \n",
              "1 2020-01-04 10:00:00       0.42      13313        10.5  \n",
              "2 2020-01-04 10:00:00       0.42      13313        10.5  \n",
              "3 2020-01-04 10:00:00       2.10      13313        10.5  \n",
              "4 2020-01-04 10:00:00       1.25      13313        12.5  "
            ]
          },
          "metadata": {
            "tags": []
          },
          "execution_count": 72
        }
      ]
    },
    {
      "cell_type": "code",
      "metadata": {
        "trusted": true,
        "colab": {
          "base_uri": "https://localhost:8080/",
          "height": 297
        },
        "id": "bNgcBtvV_U2F",
        "outputId": "0a658f5b-b59e-42f9-9dcc-99e99bc4fbd5"
      },
      "source": [
        "data.describe()"
      ],
      "execution_count": null,
      "outputs": [
        {
          "output_type": "execute_result",
          "data": {
            "text/html": [
              "<div>\n",
              "<style scoped>\n",
              "    .dataframe tbody tr th:only-of-type {\n",
              "        vertical-align: middle;\n",
              "    }\n",
              "\n",
              "    .dataframe tbody tr th {\n",
              "        vertical-align: top;\n",
              "    }\n",
              "\n",
              "    .dataframe thead th {\n",
              "        text-align: right;\n",
              "    }\n",
              "</style>\n",
              "<table border=\"1\" class=\"dataframe\">\n",
              "  <thead>\n",
              "    <tr style=\"text-align: right;\">\n",
              "      <th></th>\n",
              "      <th>Quantity</th>\n",
              "      <th>UnitPrice</th>\n",
              "      <th>TotalPrice</th>\n",
              "    </tr>\n",
              "  </thead>\n",
              "  <tbody>\n",
              "    <tr>\n",
              "      <th>count</th>\n",
              "      <td>209978.000000</td>\n",
              "      <td>209978.000000</td>\n",
              "      <td>209978.000000</td>\n",
              "    </tr>\n",
              "    <tr>\n",
              "      <th>mean</th>\n",
              "      <td>7.527241</td>\n",
              "      <td>3.393027</td>\n",
              "      <td>14.865205</td>\n",
              "    </tr>\n",
              "    <tr>\n",
              "      <th>std</th>\n",
              "      <td>13.718957</td>\n",
              "      <td>4.951230</td>\n",
              "      <td>27.352766</td>\n",
              "    </tr>\n",
              "    <tr>\n",
              "      <th>min</th>\n",
              "      <td>1.000000</td>\n",
              "      <td>0.001000</td>\n",
              "      <td>0.001000</td>\n",
              "    </tr>\n",
              "    <tr>\n",
              "      <th>25%</th>\n",
              "      <td>1.000000</td>\n",
              "      <td>1.250000</td>\n",
              "      <td>4.130000</td>\n",
              "    </tr>\n",
              "    <tr>\n",
              "      <th>50%</th>\n",
              "      <td>3.000000</td>\n",
              "      <td>2.100000</td>\n",
              "      <td>9.950000</td>\n",
              "    </tr>\n",
              "    <tr>\n",
              "      <th>75%</th>\n",
              "      <td>10.000000</td>\n",
              "      <td>4.130000</td>\n",
              "      <td>17.000000</td>\n",
              "    </tr>\n",
              "    <tr>\n",
              "      <th>max</th>\n",
              "      <td>462.000000</td>\n",
              "      <td>649.500000</td>\n",
              "      <td>1700.000000</td>\n",
              "    </tr>\n",
              "  </tbody>\n",
              "</table>\n",
              "</div>"
            ],
            "text/plain": [
              "            Quantity      UnitPrice     TotalPrice\n",
              "count  209978.000000  209978.000000  209978.000000\n",
              "mean        7.527241       3.393027      14.865205\n",
              "std        13.718957       4.951230      27.352766\n",
              "min         1.000000       0.001000       0.001000\n",
              "25%         1.000000       1.250000       4.130000\n",
              "50%         3.000000       2.100000       9.950000\n",
              "75%        10.000000       4.130000      17.000000\n",
              "max       462.000000     649.500000    1700.000000"
            ]
          },
          "metadata": {
            "tags": []
          },
          "execution_count": 73
        }
      ]
    },
    {
      "cell_type": "markdown",
      "metadata": {
        "id": "5xq0q2gd_U2F"
      },
      "source": [
        "# Timeseries Trend"
      ]
    },
    {
      "cell_type": "markdown",
      "metadata": {
        "id": "N55lZTRA_U2F"
      },
      "source": [
        "plot the total user each month"
      ]
    },
    {
      "cell_type": "code",
      "metadata": {
        "trusted": true,
        "colab": {
          "base_uri": "https://localhost:8080/",
          "height": 289
        },
        "id": "xa5oKxXn_U2F",
        "outputId": "d699a7bc-3e5e-44ea-ee3d-352a269499e6"
      },
      "source": [
        "#first we make a new column named month\n",
        "data['Month'] = data.InvoiceDate.dt.to_period('M')\n",
        "data.head()"
      ],
      "execution_count": null,
      "outputs": [
        {
          "output_type": "execute_result",
          "data": {
            "text/html": [
              "<div>\n",
              "<style scoped>\n",
              "    .dataframe tbody tr th:only-of-type {\n",
              "        vertical-align: middle;\n",
              "    }\n",
              "\n",
              "    .dataframe tbody tr th {\n",
              "        vertical-align: top;\n",
              "    }\n",
              "\n",
              "    .dataframe thead th {\n",
              "        text-align: right;\n",
              "    }\n",
              "</style>\n",
              "<table border=\"1\" class=\"dataframe\">\n",
              "  <thead>\n",
              "    <tr style=\"text-align: right;\">\n",
              "      <th></th>\n",
              "      <th>InvoiceNo</th>\n",
              "      <th>StockCode</th>\n",
              "      <th>Description</th>\n",
              "      <th>Quantity</th>\n",
              "      <th>InvoiceDate</th>\n",
              "      <th>UnitPrice</th>\n",
              "      <th>CustomerID</th>\n",
              "      <th>TotalPrice</th>\n",
              "      <th>Month</th>\n",
              "    </tr>\n",
              "  </thead>\n",
              "  <tbody>\n",
              "    <tr>\n",
              "      <th>0</th>\n",
              "      <td>539993</td>\n",
              "      <td>22386</td>\n",
              "      <td>JUMBO BAG PINK POLKADOT</td>\n",
              "      <td>10.0</td>\n",
              "      <td>2020-01-04 10:00:00</td>\n",
              "      <td>1.95</td>\n",
              "      <td>13313</td>\n",
              "      <td>19.5</td>\n",
              "      <td>2020-01</td>\n",
              "    </tr>\n",
              "    <tr>\n",
              "      <th>1</th>\n",
              "      <td>539993</td>\n",
              "      <td>21499</td>\n",
              "      <td>BLUE POLKADOT WRAP</td>\n",
              "      <td>25.0</td>\n",
              "      <td>2020-01-04 10:00:00</td>\n",
              "      <td>0.42</td>\n",
              "      <td>13313</td>\n",
              "      <td>10.5</td>\n",
              "      <td>2020-01</td>\n",
              "    </tr>\n",
              "    <tr>\n",
              "      <th>2</th>\n",
              "      <td>539993</td>\n",
              "      <td>21498</td>\n",
              "      <td>RED RETROSPOT WRAP</td>\n",
              "      <td>25.0</td>\n",
              "      <td>2020-01-04 10:00:00</td>\n",
              "      <td>0.42</td>\n",
              "      <td>13313</td>\n",
              "      <td>10.5</td>\n",
              "      <td>2020-01</td>\n",
              "    </tr>\n",
              "    <tr>\n",
              "      <th>3</th>\n",
              "      <td>539993</td>\n",
              "      <td>22379</td>\n",
              "      <td>RECYCLING BAG RETROSPOT</td>\n",
              "      <td>5.0</td>\n",
              "      <td>2020-01-04 10:00:00</td>\n",
              "      <td>2.10</td>\n",
              "      <td>13313</td>\n",
              "      <td>10.5</td>\n",
              "      <td>2020-01</td>\n",
              "    </tr>\n",
              "    <tr>\n",
              "      <th>4</th>\n",
              "      <td>539993</td>\n",
              "      <td>20718</td>\n",
              "      <td>RED RETROSPOT SHOPPER BAG</td>\n",
              "      <td>10.0</td>\n",
              "      <td>2020-01-04 10:00:00</td>\n",
              "      <td>1.25</td>\n",
              "      <td>13313</td>\n",
              "      <td>12.5</td>\n",
              "      <td>2020-01</td>\n",
              "    </tr>\n",
              "  </tbody>\n",
              "</table>\n",
              "</div>"
            ],
            "text/plain": [
              "  InvoiceNo StockCode                Description  Quantity  \\\n",
              "0    539993     22386    JUMBO BAG PINK POLKADOT      10.0   \n",
              "1    539993     21499         BLUE POLKADOT WRAP      25.0   \n",
              "2    539993     21498        RED RETROSPOT WRAP       25.0   \n",
              "3    539993     22379   RECYCLING BAG RETROSPOT        5.0   \n",
              "4    539993     20718  RED RETROSPOT SHOPPER BAG      10.0   \n",
              "\n",
              "          InvoiceDate  UnitPrice CustomerID  TotalPrice    Month  \n",
              "0 2020-01-04 10:00:00       1.95      13313        19.5  2020-01  \n",
              "1 2020-01-04 10:00:00       0.42      13313        10.5  2020-01  \n",
              "2 2020-01-04 10:00:00       0.42      13313        10.5  2020-01  \n",
              "3 2020-01-04 10:00:00       2.10      13313        10.5  2020-01  \n",
              "4 2020-01-04 10:00:00       1.25      13313        12.5  2020-01  "
            ]
          },
          "metadata": {
            "tags": []
          },
          "execution_count": 74
        }
      ]
    },
    {
      "cell_type": "code",
      "metadata": {
        "trusted": true,
        "id": "fRxxgLbm_U2G"
      },
      "source": [
        "#f, ax = plt.subplots(figsize=(20, 6))"
      ],
      "execution_count": null,
      "outputs": []
    },
    {
      "cell_type": "markdown",
      "metadata": {
        "id": "8NtCMdr5_U2G"
      },
      "source": [
        "since we want to see the customer/user, let's drop 'Guest' User"
      ]
    },
    {
      "cell_type": "code",
      "metadata": {
        "trusted": true,
        "id": "7J4ylUK8_U2G"
      },
      "source": [
        "data = data[data.CustomerID != 'Guest']"
      ],
      "execution_count": null,
      "outputs": []
    },
    {
      "cell_type": "code",
      "metadata": {
        "trusted": true,
        "colab": {
          "base_uri": "https://localhost:8080/",
          "height": 204
        },
        "id": "RQN2yjbP_U2G",
        "outputId": "bf304d52-82b0-49c9-d744-e8857a35a2e8"
      },
      "source": [
        "user_month = data.groupby('Month').CustomerID.nunique().reset_index()\n",
        "user_month.columns = ['month','total_user']\n",
        "user_month.head()"
      ],
      "execution_count": null,
      "outputs": [
        {
          "output_type": "execute_result",
          "data": {
            "text/html": [
              "<div>\n",
              "<style scoped>\n",
              "    .dataframe tbody tr th:only-of-type {\n",
              "        vertical-align: middle;\n",
              "    }\n",
              "\n",
              "    .dataframe tbody tr th {\n",
              "        vertical-align: top;\n",
              "    }\n",
              "\n",
              "    .dataframe thead th {\n",
              "        text-align: right;\n",
              "    }\n",
              "</style>\n",
              "<table border=\"1\" class=\"dataframe\">\n",
              "  <thead>\n",
              "    <tr style=\"text-align: right;\">\n",
              "      <th></th>\n",
              "      <th>month</th>\n",
              "      <th>total_user</th>\n",
              "    </tr>\n",
              "  </thead>\n",
              "  <tbody>\n",
              "    <tr>\n",
              "      <th>0</th>\n",
              "      <td>2020-01</td>\n",
              "      <td>670</td>\n",
              "    </tr>\n",
              "    <tr>\n",
              "      <th>1</th>\n",
              "      <td>2020-02</td>\n",
              "      <td>690</td>\n",
              "    </tr>\n",
              "    <tr>\n",
              "      <th>2</th>\n",
              "      <td>2020-03</td>\n",
              "      <td>893</td>\n",
              "    </tr>\n",
              "    <tr>\n",
              "      <th>3</th>\n",
              "      <td>2020-04</td>\n",
              "      <td>801</td>\n",
              "    </tr>\n",
              "    <tr>\n",
              "      <th>4</th>\n",
              "      <td>2020-05</td>\n",
              "      <td>980</td>\n",
              "    </tr>\n",
              "  </tbody>\n",
              "</table>\n",
              "</div>"
            ],
            "text/plain": [
              "     month  total_user\n",
              "0  2020-01         670\n",
              "1  2020-02         690\n",
              "2  2020-03         893\n",
              "3  2020-04         801\n",
              "4  2020-05         980"
            ]
          },
          "metadata": {
            "tags": []
          },
          "execution_count": 78
        }
      ]
    },
    {
      "cell_type": "code",
      "metadata": {
        "trusted": true,
        "colab": {
          "base_uri": "https://localhost:8080/",
          "height": 421
        },
        "id": "0Cz9uPDC_U2H",
        "outputId": "b4c0e421-b516-4a7e-e5b2-d498cae5f9df"
      },
      "source": [
        "f, ax = plt.subplots(figsize=(15, 6))\n",
        "\n",
        "sns.lineplot(data = user_month)\n",
        "plt.xlabel('Month')\n",
        "plt.ylabel('Unique User')\n",
        "plt.title('Unique User by Month')"
      ],
      "execution_count": null,
      "outputs": [
        {
          "output_type": "execute_result",
          "data": {
            "text/plain": [
              "Text(0.5, 1.0, 'Unique User by Month')"
            ]
          },
          "metadata": {
            "tags": []
          },
          "execution_count": 79
        },
        {
          "output_type": "display_data",
          "data": {
            "image/png": "[encoded data removed]",
            "text/plain": [
              "<Figure size 1080x432 with 1 Axes>"
            ]
          },
          "metadata": {
            "tags": [],
            "needs_background": "light"
          }
        }
      ]
    },
    {
      "cell_type": "markdown",
      "metadata": {
        "id": "kgQhI-yx_U2H"
      },
      "source": [
        "from the graph, we know that overall, we have a good unique user each month. Keep in mind that in december, we only collect data upto December 9th."
      ]
    },
    {
      "cell_type": "markdown",
      "metadata": {
        "id": "-d4tQlIW_U2H"
      },
      "source": [
        "# Insights so far\n",
        "\n",
        "* We know that majority of our customer were a reseller\n",
        "* We have a good amount of unique user each month, with the trend of upward through the end of the year\n",
        "\n",
        "# Action\n",
        "\n",
        "From the information that we have, in order to reach our goals, we want to roll out promotion. But before that happen, we have to know to whom will we target the promotion. To answer it, first we do clustering to know our customer even more."
      ]
    },
    {
      "cell_type": "markdown",
      "metadata": {
        "id": "UI4XKmvb_U2H"
      },
      "source": [
        "# Customer Classification"
      ]
    },
    {
      "cell_type": "code",
      "metadata": {
        "trusted": true,
        "colab": {
          "base_uri": "https://localhost:8080/",
          "height": 204
        },
        "id": "oW5Z1dFI_U2H",
        "outputId": "98972bfc-54bd-4815-cfae-4c1c255f9176"
      },
      "source": [
        "data_cust = data[['CustomerID','InvoiceDate','Quantity','UnitPrice','TotalPrice','StockCode']]\n",
        "data_cust.head()"
      ],
      "execution_count": null,
      "outputs": [
        {
          "output_type": "execute_result",
          "data": {
            "text/html": [
              "<div>\n",
              "<style scoped>\n",
              "    .dataframe tbody tr th:only-of-type {\n",
              "        vertical-align: middle;\n",
              "    }\n",
              "\n",
              "    .dataframe tbody tr th {\n",
              "        vertical-align: top;\n",
              "    }\n",
              "\n",
              "    .dataframe thead th {\n",
              "        text-align: right;\n",
              "    }\n",
              "</style>\n",
              "<table border=\"1\" class=\"dataframe\">\n",
              "  <thead>\n",
              "    <tr style=\"text-align: right;\">\n",
              "      <th></th>\n",
              "      <th>CustomerID</th>\n",
              "      <th>InvoiceDate</th>\n",
              "      <th>Quantity</th>\n",
              "      <th>UnitPrice</th>\n",
              "      <th>TotalPrice</th>\n",
              "      <th>StockCode</th>\n",
              "    </tr>\n",
              "  </thead>\n",
              "  <tbody>\n",
              "    <tr>\n",
              "      <th>0</th>\n",
              "      <td>13313</td>\n",
              "      <td>2020-01-04 10:00:00</td>\n",
              "      <td>10.0</td>\n",
              "      <td>1.95</td>\n",
              "      <td>19.5</td>\n",
              "      <td>22386</td>\n",
              "    </tr>\n",
              "    <tr>\n",
              "      <th>1</th>\n",
              "      <td>13313</td>\n",
              "      <td>2020-01-04 10:00:00</td>\n",
              "      <td>25.0</td>\n",
              "      <td>0.42</td>\n",
              "      <td>10.5</td>\n",
              "      <td>21499</td>\n",
              "    </tr>\n",
              "    <tr>\n",
              "      <th>2</th>\n",
              "      <td>13313</td>\n",
              "      <td>2020-01-04 10:00:00</td>\n",
              "      <td>25.0</td>\n",
              "      <td>0.42</td>\n",
              "      <td>10.5</td>\n",
              "      <td>21498</td>\n",
              "    </tr>\n",
              "    <tr>\n",
              "      <th>3</th>\n",
              "      <td>13313</td>\n",
              "      <td>2020-01-04 10:00:00</td>\n",
              "      <td>5.0</td>\n",
              "      <td>2.10</td>\n",
              "      <td>10.5</td>\n",
              "      <td>22379</td>\n",
              "    </tr>\n",
              "    <tr>\n",
              "      <th>4</th>\n",
              "      <td>13313</td>\n",
              "      <td>2020-01-04 10:00:00</td>\n",
              "      <td>10.0</td>\n",
              "      <td>1.25</td>\n",
              "      <td>12.5</td>\n",
              "      <td>20718</td>\n",
              "    </tr>\n",
              "  </tbody>\n",
              "</table>\n",
              "</div>"
            ],
            "text/plain": [
              "  CustomerID         InvoiceDate  Quantity  UnitPrice  TotalPrice StockCode\n",
              "0      13313 2020-01-04 10:00:00      10.0       1.95        19.5     22386\n",
              "1      13313 2020-01-04 10:00:00      25.0       0.42        10.5     21499\n",
              "2      13313 2020-01-04 10:00:00      25.0       0.42        10.5     21498\n",
              "3      13313 2020-01-04 10:00:00       5.0       2.10        10.5     22379\n",
              "4      13313 2020-01-04 10:00:00      10.0       1.25        12.5     20718"
            ]
          },
          "metadata": {
            "tags": []
          },
          "execution_count": 80
        }
      ]
    },
    {
      "cell_type": "markdown",
      "metadata": {
        "id": "HWNqHUvo_U2I"
      },
      "source": [
        "For clustering, let's group them based on their purchase behavior"
      ]
    },
    {
      "cell_type": "code",
      "metadata": {
        "trusted": true,
        "colab": {
          "base_uri": "https://localhost:8080/",
          "height": 204
        },
        "id": "ElX91gWk_U2I",
        "outputId": "db85de0c-ed1d-49ce-f9cb-6cf34e03871f"
      },
      "source": [
        "#total unique item bought per cust\n",
        "total_bought = data_cust.groupby('CustomerID').StockCode.nunique().reset_index()\n",
        "total_bought.columns = ['cust_id','total_product']\n",
        "total_bought.head()"
      ],
      "execution_count": null,
      "outputs": [
        {
          "output_type": "execute_result",
          "data": {
            "text/html": [
              "<div>\n",
              "<style scoped>\n",
              "    .dataframe tbody tr th:only-of-type {\n",
              "        vertical-align: middle;\n",
              "    }\n",
              "\n",
              "    .dataframe tbody tr th {\n",
              "        vertical-align: top;\n",
              "    }\n",
              "\n",
              "    .dataframe thead th {\n",
              "        text-align: right;\n",
              "    }\n",
              "</style>\n",
              "<table border=\"1\" class=\"dataframe\">\n",
              "  <thead>\n",
              "    <tr style=\"text-align: right;\">\n",
              "      <th></th>\n",
              "      <th>cust_id</th>\n",
              "      <th>total_product</th>\n",
              "    </tr>\n",
              "  </thead>\n",
              "  <tbody>\n",
              "    <tr>\n",
              "      <th>0</th>\n",
              "      <td>12347</td>\n",
              "      <td>52</td>\n",
              "    </tr>\n",
              "    <tr>\n",
              "      <th>1</th>\n",
              "      <td>12348</td>\n",
              "      <td>4</td>\n",
              "    </tr>\n",
              "    <tr>\n",
              "      <th>2</th>\n",
              "      <td>12350</td>\n",
              "      <td>16</td>\n",
              "    </tr>\n",
              "    <tr>\n",
              "      <th>3</th>\n",
              "      <td>12352</td>\n",
              "      <td>24</td>\n",
              "    </tr>\n",
              "    <tr>\n",
              "      <th>4</th>\n",
              "      <td>12353</td>\n",
              "      <td>4</td>\n",
              "    </tr>\n",
              "  </tbody>\n",
              "</table>\n",
              "</div>"
            ],
            "text/plain": [
              "  cust_id  total_product\n",
              "0   12347             52\n",
              "1   12348              4\n",
              "2   12350             16\n",
              "3   12352             24\n",
              "4   12353              4"
            ]
          },
          "metadata": {
            "tags": []
          },
          "execution_count": 81
        }
      ]
    },
    {
      "cell_type": "code",
      "metadata": {
        "trusted": true,
        "colab": {
          "base_uri": "https://localhost:8080/",
          "height": 204
        },
        "id": "TOFHzbhi_U2I",
        "outputId": "901f5a41-afa5-4dc3-d60e-8f3d00e72e48"
      },
      "source": [
        "#total transaction value\n",
        "total_trx = data_cust.groupby('CustomerID').TotalPrice.sum().reset_index()\n",
        "total_trx.columns = ['cust_id','total_trx']\n",
        "total_trx.head()"
      ],
      "execution_count": null,
      "outputs": [
        {
          "output_type": "execute_result",
          "data": {
            "text/html": [
              "<div>\n",
              "<style scoped>\n",
              "    .dataframe tbody tr th:only-of-type {\n",
              "        vertical-align: middle;\n",
              "    }\n",
              "\n",
              "    .dataframe tbody tr th {\n",
              "        vertical-align: top;\n",
              "    }\n",
              "\n",
              "    .dataframe thead th {\n",
              "        text-align: right;\n",
              "    }\n",
              "</style>\n",
              "<table border=\"1\" class=\"dataframe\">\n",
              "  <thead>\n",
              "    <tr style=\"text-align: right;\">\n",
              "      <th></th>\n",
              "      <th>cust_id</th>\n",
              "      <th>total_trx</th>\n",
              "    </tr>\n",
              "  </thead>\n",
              "  <tbody>\n",
              "    <tr>\n",
              "      <th>0</th>\n",
              "      <td>12347</td>\n",
              "      <td>1442.82</td>\n",
              "    </tr>\n",
              "    <tr>\n",
              "      <th>1</th>\n",
              "      <td>12348</td>\n",
              "      <td>327.00</td>\n",
              "    </tr>\n",
              "    <tr>\n",
              "      <th>2</th>\n",
              "      <td>12350</td>\n",
              "      <td>294.40</td>\n",
              "    </tr>\n",
              "    <tr>\n",
              "      <th>3</th>\n",
              "      <td>12352</td>\n",
              "      <td>641.51</td>\n",
              "    </tr>\n",
              "    <tr>\n",
              "      <th>4</th>\n",
              "      <td>12353</td>\n",
              "      <td>89.00</td>\n",
              "    </tr>\n",
              "  </tbody>\n",
              "</table>\n",
              "</div>"
            ],
            "text/plain": [
              "  cust_id  total_trx\n",
              "0   12347    1442.82\n",
              "1   12348     327.00\n",
              "2   12350     294.40\n",
              "3   12352     641.51\n",
              "4   12353      89.00"
            ]
          },
          "metadata": {
            "tags": []
          },
          "execution_count": 82
        }
      ]
    },
    {
      "cell_type": "code",
      "metadata": {
        "trusted": true,
        "colab": {
          "base_uri": "https://localhost:8080/"
        },
        "id": "juT-spsJ_U2I",
        "outputId": "284a67c9-48b7-4cf1-da0d-1829b25109db"
      },
      "source": [
        "data.InvoiceDate.max()"
      ],
      "execution_count": null,
      "outputs": [
        {
          "output_type": "execute_result",
          "data": {
            "text/plain": [
              "Timestamp('2020-09-13 12:37:00')"
            ]
          },
          "metadata": {
            "tags": []
          },
          "execution_count": 83
        }
      ]
    },
    {
      "cell_type": "code",
      "metadata": {
        "trusted": true,
        "colab": {
          "base_uri": "https://localhost:8080/",
          "height": 323
        },
        "id": "Ur6-u1zO_U2I",
        "outputId": "2018ab8a-79dd-4f94-c793-f597905f9481"
      },
      "source": [
        "#Day since last transactions happen\n",
        "data['LastTrx'] = (pd.to_datetime('2020-12-09 12:50:00') - data.InvoiceDate).dt.days\n",
        "data.tail()"
      ],
      "execution_count": null,
      "outputs": [
        {
          "output_type": "execute_result",
          "data": {
            "text/html": [
              "<div>\n",
              "<style scoped>\n",
              "    .dataframe tbody tr th:only-of-type {\n",
              "        vertical-align: middle;\n",
              "    }\n",
              "\n",
              "    .dataframe tbody tr th {\n",
              "        vertical-align: top;\n",
              "    }\n",
              "\n",
              "    .dataframe thead th {\n",
              "        text-align: right;\n",
              "    }\n",
              "</style>\n",
              "<table border=\"1\" class=\"dataframe\">\n",
              "  <thead>\n",
              "    <tr style=\"text-align: right;\">\n",
              "      <th></th>\n",
              "      <th>InvoiceNo</th>\n",
              "      <th>StockCode</th>\n",
              "      <th>Description</th>\n",
              "      <th>Quantity</th>\n",
              "      <th>InvoiceDate</th>\n",
              "      <th>UnitPrice</th>\n",
              "      <th>CustomerID</th>\n",
              "      <th>TotalPrice</th>\n",
              "      <th>Month</th>\n",
              "      <th>LastTrx</th>\n",
              "    </tr>\n",
              "  </thead>\n",
              "  <tbody>\n",
              "    <tr>\n",
              "      <th>296377</th>\n",
              "      <td>566567</td>\n",
              "      <td>21930</td>\n",
              "      <td>JUMBO STORAGE BAG SKULLS</td>\n",
              "      <td>10.0</td>\n",
              "      <td>2020-09-13 12:37:00</td>\n",
              "      <td>2.08</td>\n",
              "      <td>16161</td>\n",
              "      <td>20.8</td>\n",
              "      <td>2020-09</td>\n",
              "      <td>87</td>\n",
              "    </tr>\n",
              "    <tr>\n",
              "      <th>296378</th>\n",
              "      <td>566567</td>\n",
              "      <td>23203</td>\n",
              "      <td>JUMBO BAG VINTAGE DOILY</td>\n",
              "      <td>10.0</td>\n",
              "      <td>2020-09-13 12:37:00</td>\n",
              "      <td>2.08</td>\n",
              "      <td>16161</td>\n",
              "      <td>20.8</td>\n",
              "      <td>2020-09</td>\n",
              "      <td>87</td>\n",
              "    </tr>\n",
              "    <tr>\n",
              "      <th>296379</th>\n",
              "      <td>566567</td>\n",
              "      <td>22577</td>\n",
              "      <td>WOODEN HEART CHRISTMAS SCANDINAVIAN</td>\n",
              "      <td>12.0</td>\n",
              "      <td>2020-09-13 12:37:00</td>\n",
              "      <td>0.85</td>\n",
              "      <td>16161</td>\n",
              "      <td>10.2</td>\n",
              "      <td>2020-09</td>\n",
              "      <td>87</td>\n",
              "    </tr>\n",
              "    <tr>\n",
              "      <th>296380</th>\n",
              "      <td>566567</td>\n",
              "      <td>23344</td>\n",
              "      <td>JUMBO BAG 50'S CHRISTMAS</td>\n",
              "      <td>20.0</td>\n",
              "      <td>2020-09-13 12:37:00</td>\n",
              "      <td>2.08</td>\n",
              "      <td>16161</td>\n",
              "      <td>41.6</td>\n",
              "      <td>2020-09</td>\n",
              "      <td>87</td>\n",
              "    </tr>\n",
              "    <tr>\n",
              "      <th>296381</th>\n",
              "      <td>566567</td>\n",
              "      <td>23343</td>\n",
              "      <td>JUMBO BAG VINTAGE CHRISTMAS</td>\n",
              "      <td>20.0</td>\n",
              "      <td>2020-09-13 12:37:00</td>\n",
              "      <td>2.08</td>\n",
              "      <td>16161</td>\n",
              "      <td>41.6</td>\n",
              "      <td>2020-09</td>\n",
              "      <td>87</td>\n",
              "    </tr>\n",
              "  </tbody>\n",
              "</table>\n",
              "</div>"
            ],
            "text/plain": [
              "       InvoiceNo StockCode                          Description  Quantity  \\\n",
              "296377    566567     21930             JUMBO STORAGE BAG SKULLS      10.0   \n",
              "296378    566567     23203             JUMBO BAG VINTAGE DOILY       10.0   \n",
              "296379    566567     22577  WOODEN HEART CHRISTMAS SCANDINAVIAN      12.0   \n",
              "296380    566567     23344            JUMBO BAG 50'S CHRISTMAS       20.0   \n",
              "296381    566567     23343         JUMBO BAG VINTAGE CHRISTMAS       20.0   \n",
              "\n",
              "               InvoiceDate  UnitPrice CustomerID  TotalPrice    Month  LastTrx  \n",
              "296377 2020-09-13 12:37:00       2.08      16161        20.8  2020-09       87  \n",
              "296378 2020-09-13 12:37:00       2.08      16161        20.8  2020-09       87  \n",
              "296379 2020-09-13 12:37:00       0.85      16161        10.2  2020-09       87  \n",
              "296380 2020-09-13 12:37:00       2.08      16161        41.6  2020-09       87  \n",
              "296381 2020-09-13 12:37:00       2.08      16161        41.6  2020-09       87  "
            ]
          },
          "metadata": {
            "tags": []
          },
          "execution_count": 84
        }
      ]
    },
    {
      "cell_type": "code",
      "metadata": {
        "trusted": true,
        "colab": {
          "base_uri": "https://localhost:8080/",
          "height": 204
        },
        "id": "09VK1dDI_U2I",
        "outputId": "5bd8892d-c0b7-4095-8f59-e9a3f42d0c29"
      },
      "source": [
        "cus_recent_trx = data.groupby('CustomerID').LastTrx.min().reset_index()\n",
        "cus_recent_trx.columns = ['cust_id','recent_trx']\n",
        "cus_recent_trx.head()"
      ],
      "execution_count": null,
      "outputs": [
        {
          "output_type": "execute_result",
          "data": {
            "text/html": [
              "<div>\n",
              "<style scoped>\n",
              "    .dataframe tbody tr th:only-of-type {\n",
              "        vertical-align: middle;\n",
              "    }\n",
              "\n",
              "    .dataframe tbody tr th {\n",
              "        vertical-align: top;\n",
              "    }\n",
              "\n",
              "    .dataframe thead th {\n",
              "        text-align: right;\n",
              "    }\n",
              "</style>\n",
              "<table border=\"1\" class=\"dataframe\">\n",
              "  <thead>\n",
              "    <tr style=\"text-align: right;\">\n",
              "      <th></th>\n",
              "      <th>cust_id</th>\n",
              "      <th>recent_trx</th>\n",
              "    </tr>\n",
              "  </thead>\n",
              "  <tbody>\n",
              "    <tr>\n",
              "      <th>0</th>\n",
              "      <td>12347</td>\n",
              "      <td>129</td>\n",
              "    </tr>\n",
              "    <tr>\n",
              "      <th>1</th>\n",
              "      <td>12348</td>\n",
              "      <td>248</td>\n",
              "    </tr>\n",
              "    <tr>\n",
              "      <th>2</th>\n",
              "      <td>12350</td>\n",
              "      <td>310</td>\n",
              "    </tr>\n",
              "    <tr>\n",
              "      <th>3</th>\n",
              "      <td>12352</td>\n",
              "      <td>261</td>\n",
              "    </tr>\n",
              "    <tr>\n",
              "      <th>4</th>\n",
              "      <td>12353</td>\n",
              "      <td>203</td>\n",
              "    </tr>\n",
              "  </tbody>\n",
              "</table>\n",
              "</div>"
            ],
            "text/plain": [
              "  cust_id  recent_trx\n",
              "0   12347         129\n",
              "1   12348         248\n",
              "2   12350         310\n",
              "3   12352         261\n",
              "4   12353         203"
            ]
          },
          "metadata": {
            "tags": []
          },
          "execution_count": 85
        }
      ]
    },
    {
      "cell_type": "code",
      "metadata": {
        "trusted": true,
        "colab": {
          "base_uri": "https://localhost:8080/",
          "height": 204
        },
        "id": "wyU0InOY_U2J",
        "outputId": "7ba7e596-844d-485c-cb16-d4f1e57e55be"
      },
      "source": [
        "#buying frequency in a year\n",
        "cus_frequency = data_cust.groupby('CustomerID').InvoiceDate.nunique().reset_index()\n",
        "cus_frequency.columns = ['cust_id','freq']\n",
        "cus_frequency.head()"
      ],
      "execution_count": null,
      "outputs": [
        {
          "output_type": "execute_result",
          "data": {
            "text/html": [
              "<div>\n",
              "<style scoped>\n",
              "    .dataframe tbody tr th:only-of-type {\n",
              "        vertical-align: middle;\n",
              "    }\n",
              "\n",
              "    .dataframe tbody tr th {\n",
              "        vertical-align: top;\n",
              "    }\n",
              "\n",
              "    .dataframe thead th {\n",
              "        text-align: right;\n",
              "    }\n",
              "</style>\n",
              "<table border=\"1\" class=\"dataframe\">\n",
              "  <thead>\n",
              "    <tr style=\"text-align: right;\">\n",
              "      <th></th>\n",
              "      <th>cust_id</th>\n",
              "      <th>freq</th>\n",
              "    </tr>\n",
              "  </thead>\n",
              "  <tbody>\n",
              "    <tr>\n",
              "      <th>0</th>\n",
              "      <td>12347</td>\n",
              "      <td>3</td>\n",
              "    </tr>\n",
              "    <tr>\n",
              "      <th>1</th>\n",
              "      <td>12348</td>\n",
              "      <td>1</td>\n",
              "    </tr>\n",
              "    <tr>\n",
              "      <th>2</th>\n",
              "      <td>12350</td>\n",
              "      <td>1</td>\n",
              "    </tr>\n",
              "    <tr>\n",
              "      <th>3</th>\n",
              "      <td>12352</td>\n",
              "      <td>4</td>\n",
              "    </tr>\n",
              "    <tr>\n",
              "      <th>4</th>\n",
              "      <td>12353</td>\n",
              "      <td>1</td>\n",
              "    </tr>\n",
              "  </tbody>\n",
              "</table>\n",
              "</div>"
            ],
            "text/plain": [
              "  cust_id  freq\n",
              "0   12347     3\n",
              "1   12348     1\n",
              "2   12350     1\n",
              "3   12352     4\n",
              "4   12353     1"
            ]
          },
          "metadata": {
            "tags": []
          },
          "execution_count": 86
        }
      ]
    },
    {
      "cell_type": "code",
      "metadata": {
        "trusted": true,
        "colab": {
          "base_uri": "https://localhost:8080/",
          "height": 204
        },
        "id": "7d-CH40s_U2J",
        "outputId": "fb5b6bd1-ca4e-4fca-8d0d-fa2c94d1c2be"
      },
      "source": [
        "#merge the 4 table\n",
        "cust = pd.DataFrame()\n",
        "cust['cust_id'] = cus_recent_trx.cust_id\n",
        "cust = cust.merge(total_bought, on='cust_id')\n",
        "cust = cust.merge(total_trx, on='cust_id')\n",
        "cust = cust.merge(cus_recent_trx, on='cust_id')\n",
        "cust = cust.merge(cus_frequency, on='cust_id')\n",
        "cust.head()"
      ],
      "execution_count": null,
      "outputs": [
        {
          "output_type": "execute_result",
          "data": {
            "text/html": [
              "<div>\n",
              "<style scoped>\n",
              "    .dataframe tbody tr th:only-of-type {\n",
              "        vertical-align: middle;\n",
              "    }\n",
              "\n",
              "    .dataframe tbody tr th {\n",
              "        vertical-align: top;\n",
              "    }\n",
              "\n",
              "    .dataframe thead th {\n",
              "        text-align: right;\n",
              "    }\n",
              "</style>\n",
              "<table border=\"1\" class=\"dataframe\">\n",
              "  <thead>\n",
              "    <tr style=\"text-align: right;\">\n",
              "      <th></th>\n",
              "      <th>cust_id</th>\n",
              "      <th>total_product</th>\n",
              "      <th>total_trx</th>\n",
              "      <th>recent_trx</th>\n",
              "      <th>freq</th>\n",
              "    </tr>\n",
              "  </thead>\n",
              "  <tbody>\n",
              "    <tr>\n",
              "      <th>0</th>\n",
              "      <td>12347</td>\n",
              "      <td>52</td>\n",
              "      <td>1442.82</td>\n",
              "      <td>129</td>\n",
              "      <td>3</td>\n",
              "    </tr>\n",
              "    <tr>\n",
              "      <th>1</th>\n",
              "      <td>12348</td>\n",
              "      <td>4</td>\n",
              "      <td>327.00</td>\n",
              "      <td>248</td>\n",
              "      <td>1</td>\n",
              "    </tr>\n",
              "    <tr>\n",
              "      <th>2</th>\n",
              "      <td>12350</td>\n",
              "      <td>16</td>\n",
              "      <td>294.40</td>\n",
              "      <td>310</td>\n",
              "      <td>1</td>\n",
              "    </tr>\n",
              "    <tr>\n",
              "      <th>3</th>\n",
              "      <td>12352</td>\n",
              "      <td>24</td>\n",
              "      <td>641.51</td>\n",
              "      <td>261</td>\n",
              "      <td>4</td>\n",
              "    </tr>\n",
              "    <tr>\n",
              "      <th>4</th>\n",
              "      <td>12353</td>\n",
              "      <td>4</td>\n",
              "      <td>89.00</td>\n",
              "      <td>203</td>\n",
              "      <td>1</td>\n",
              "    </tr>\n",
              "  </tbody>\n",
              "</table>\n",
              "</div>"
            ],
            "text/plain": [
              "  cust_id  total_product  total_trx  recent_trx  freq\n",
              "0   12347             52    1442.82         129     3\n",
              "1   12348              4     327.00         248     1\n",
              "2   12350             16     294.40         310     1\n",
              "3   12352             24     641.51         261     4\n",
              "4   12353              4      89.00         203     1"
            ]
          },
          "metadata": {
            "tags": []
          },
          "execution_count": 87
        }
      ]
    },
    {
      "cell_type": "markdown",
      "metadata": {
        "id": "XqJq_myv_U2J"
      },
      "source": [
        "# K-means Clustering"
      ]
    },
    {
      "cell_type": "code",
      "metadata": {
        "trusted": true,
        "id": "osOfHsCg_U2K"
      },
      "source": [
        "from sklearn.cluster import KMeans"
      ],
      "execution_count": null,
      "outputs": []
    },
    {
      "cell_type": "code",
      "metadata": {
        "trusted": true,
        "id": "bFnwDLoZ_U2K"
      },
      "source": [
        "# Calculate sum of squared distances\n",
        "ssd = []\n",
        "K = range(1,10)\n",
        "for k in K:\n",
        "    km = KMeans(n_clusters=k)\n",
        "    km = km.fit(cust)\n",
        "    ssd.append(km.inertia_)"
      ],
      "execution_count": null,
      "outputs": []
    },
    {
      "cell_type": "code",
      "metadata": {
        "trusted": true,
        "colab": {
          "base_uri": "https://localhost:8080/",
          "height": 404
        },
        "id": "c1x9Tm_5_U2K",
        "outputId": "98413fe9-4f9b-4ac0-922d-7e78826bc0fd"
      },
      "source": [
        "# Plot sum of squared distances / elbow method\n",
        "plt.figure(figsize=(10,6))\n",
        "plt.plot(K, ssd, 'bx-')\n",
        "plt.xlabel('k')\n",
        "plt.ylabel('ssd')\n",
        "plt.title('Elbow Method For Optimal k')\n",
        "plt.show()"
      ],
      "execution_count": null,
      "outputs": [
        {
          "output_type": "display_data",
          "data": {
            "image/png": "[encoded data removed]",
            "text/plain": [
              "<Figure size 720x432 with 1 Axes>"
            ]
          },
          "metadata": {
            "tags": [],
            "needs_background": "light"
          }
        }
      ]
    },
    {
      "cell_type": "markdown",
      "metadata": {
        "id": "qMc77JRx_U2L"
      },
      "source": [
        "To determine the optimal number of clusters, we have to select the value of k at the “elbow” ie the point after which the distortion/inertia start decreasing in a linear fashion.\n",
        "\n",
        "In this case, we select K = 4"
      ]
    },
    {
      "cell_type": "code",
      "metadata": {
        "trusted": true,
        "id": "thhY3sey_U2L"
      },
      "source": [
        "kmeans = KMeans(n_clusters=4)\n",
        "model = kmeans.fit(cust)"
      ],
      "execution_count": null,
      "outputs": []
    },
    {
      "cell_type": "code",
      "metadata": {
        "trusted": true,
        "colab": {
          "base_uri": "https://localhost:8080/",
          "height": 204
        },
        "id": "6IVToP8f_U2L",
        "outputId": "75ed8274-ca93-4f53-b3ac-bedc6e48c053"
      },
      "source": [
        "pred = model.labels_\n",
        "cust['Cluster'] = pred\n",
        "cust.head()"
      ],
      "execution_count": null,
      "outputs": [
        {
          "output_type": "execute_result",
          "data": {
            "text/html": [
              "<div>\n",
              "<style scoped>\n",
              "    .dataframe tbody tr th:only-of-type {\n",
              "        vertical-align: middle;\n",
              "    }\n",
              "\n",
              "    .dataframe tbody tr th {\n",
              "        vertical-align: top;\n",
              "    }\n",
              "\n",
              "    .dataframe thead th {\n",
              "        text-align: right;\n",
              "    }\n",
              "</style>\n",
              "<table border=\"1\" class=\"dataframe\">\n",
              "  <thead>\n",
              "    <tr style=\"text-align: right;\">\n",
              "      <th></th>\n",
              "      <th>cust_id</th>\n",
              "      <th>total_product</th>\n",
              "      <th>total_trx</th>\n",
              "      <th>recent_trx</th>\n",
              "      <th>freq</th>\n",
              "      <th>Cluster</th>\n",
              "    </tr>\n",
              "  </thead>\n",
              "  <tbody>\n",
              "    <tr>\n",
              "      <th>0</th>\n",
              "      <td>12347</td>\n",
              "      <td>52</td>\n",
              "      <td>1442.82</td>\n",
              "      <td>129</td>\n",
              "      <td>3</td>\n",
              "      <td>2</td>\n",
              "    </tr>\n",
              "    <tr>\n",
              "      <th>1</th>\n",
              "      <td>12348</td>\n",
              "      <td>4</td>\n",
              "      <td>327.00</td>\n",
              "      <td>248</td>\n",
              "      <td>1</td>\n",
              "      <td>2</td>\n",
              "    </tr>\n",
              "    <tr>\n",
              "      <th>2</th>\n",
              "      <td>12350</td>\n",
              "      <td>16</td>\n",
              "      <td>294.40</td>\n",
              "      <td>310</td>\n",
              "      <td>1</td>\n",
              "      <td>2</td>\n",
              "    </tr>\n",
              "    <tr>\n",
              "      <th>3</th>\n",
              "      <td>12352</td>\n",
              "      <td>24</td>\n",
              "      <td>641.51</td>\n",
              "      <td>261</td>\n",
              "      <td>4</td>\n",
              "      <td>2</td>\n",
              "    </tr>\n",
              "    <tr>\n",
              "      <th>4</th>\n",
              "      <td>12353</td>\n",
              "      <td>4</td>\n",
              "      <td>89.00</td>\n",
              "      <td>203</td>\n",
              "      <td>1</td>\n",
              "      <td>2</td>\n",
              "    </tr>\n",
              "  </tbody>\n",
              "</table>\n",
              "</div>"
            ],
            "text/plain": [
              "  cust_id  total_product  total_trx  recent_trx  freq  Cluster\n",
              "0   12347             52    1442.82         129     3        2\n",
              "1   12348              4     327.00         248     1        2\n",
              "2   12350             16     294.40         310     1        2\n",
              "3   12352             24     641.51         261     4        2\n",
              "4   12353              4      89.00         203     1        2"
            ]
          },
          "metadata": {
            "tags": []
          },
          "execution_count": 98
        }
      ]
    },
    {
      "cell_type": "code",
      "metadata": {
        "trusted": true,
        "colab": {
          "base_uri": "https://localhost:8080/",
          "height": 405
        },
        "id": "NsuePLtp_U2M",
        "outputId": "9a7007ed-4797-4552-923e-23158aee18f6"
      },
      "source": [
        "plt.figure(figsize=(10,6))\n",
        "\n",
        "sns.scatterplot(data=cust, x=\"total_trx\", y=\"recent_trx\", hue=\"Cluster\")\n",
        "plt.title('Cluster by Total Transaction and Recencys')\n",
        "plt.show()"
      ],
      "execution_count": null,
      "outputs": [
        {
          "output_type": "display_data",
          "data": {
            "image/png": "[encoded data removed]",
            "text/plain": [
              "<Figure size 720x432 with 1 Axes>"
            ]
          },
          "metadata": {
            "tags": [],
            "needs_background": "light"
          }
        }
      ]
    },
    {
      "cell_type": "markdown",
      "metadata": {
        "id": "wqlAQFZX_U2M"
      },
      "source": [
        "To sum up our cluster, let's make another table to see what majority of the cluster looks like."
      ]
    },
    {
      "cell_type": "code",
      "metadata": {
        "trusted": true,
        "colab": {
          "base_uri": "https://localhost:8080/",
          "height": 173
        },
        "id": "s2rARgjW_U2M",
        "outputId": "70ac34cf-91f7-4b92-bdf6-00e62c4320d8"
      },
      "source": [
        "customers = cust.groupby('Cluster').mean().reset_index()\n",
        "customers.sort_values('total_trx')"
      ],
      "execution_count": null,
      "outputs": [
        {
          "output_type": "execute_result",
          "data": {
            "text/html": [
              "<div>\n",
              "<style scoped>\n",
              "    .dataframe tbody tr th:only-of-type {\n",
              "        vertical-align: middle;\n",
              "    }\n",
              "\n",
              "    .dataframe tbody tr th {\n",
              "        vertical-align: top;\n",
              "    }\n",
              "\n",
              "    .dataframe thead th {\n",
              "        text-align: right;\n",
              "    }\n",
              "</style>\n",
              "<table border=\"1\" class=\"dataframe\">\n",
              "  <thead>\n",
              "    <tr style=\"text-align: right;\">\n",
              "      <th></th>\n",
              "      <th>Cluster</th>\n",
              "      <th>total_product</th>\n",
              "      <th>total_trx</th>\n",
              "      <th>recent_trx</th>\n",
              "      <th>freq</th>\n",
              "    </tr>\n",
              "  </thead>\n",
              "  <tbody>\n",
              "    <tr>\n",
              "      <th>1</th>\n",
              "      <td>1</td>\n",
              "      <td>37.678623</td>\n",
              "      <td>626.199420</td>\n",
              "      <td>177.045194</td>\n",
              "      <td>2.483501</td>\n",
              "    </tr>\n",
              "    <tr>\n",
              "      <th>2</th>\n",
              "      <td>2</td>\n",
              "      <td>34.150930</td>\n",
              "      <td>651.668470</td>\n",
              "      <td>178.666437</td>\n",
              "      <td>2.308753</td>\n",
              "    </tr>\n",
              "    <tr>\n",
              "      <th>3</th>\n",
              "      <td>3</td>\n",
              "      <td>112.158470</td>\n",
              "      <td>3948.704536</td>\n",
              "      <td>107.251366</td>\n",
              "      <td>11.338798</td>\n",
              "    </tr>\n",
              "    <tr>\n",
              "      <th>0</th>\n",
              "      <td>0</td>\n",
              "      <td>250.466667</td>\n",
              "      <td>14886.350667</td>\n",
              "      <td>94.333333</td>\n",
              "      <td>33.600000</td>\n",
              "    </tr>\n",
              "  </tbody>\n",
              "</table>\n",
              "</div>"
            ],
            "text/plain": [
              "   Cluster  total_product     total_trx  recent_trx       freq\n",
              "1        1      37.678623    626.199420  177.045194   2.483501\n",
              "2        2      34.150930    651.668470  178.666437   2.308753\n",
              "3        3     112.158470   3948.704536  107.251366  11.338798\n",
              "0        0     250.466667  14886.350667   94.333333  33.600000"
            ]
          },
          "metadata": {
            "tags": []
          },
          "execution_count": 99
        }
      ]
    },
    {
      "cell_type": "code",
      "metadata": {
        "trusted": true,
        "colab": {
          "base_uri": "https://localhost:8080/",
          "height": 173
        },
        "id": "q7QrJtyS_U2N",
        "outputId": "31bcf623-32d2-4ef0-e450-72e1e744906a"
      },
      "source": [
        "contribution = cust.groupby('Cluster').total_trx.sum().reset_index()\n",
        "contribution['Contribution (%)'] = (contribution.total_trx/contribution.total_trx.sum())*100\n",
        "contribution"
      ],
      "execution_count": null,
      "outputs": [
        {
          "output_type": "execute_result",
          "data": {
            "text/html": [
              "<div>\n",
              "<style scoped>\n",
              "    .dataframe tbody tr th:only-of-type {\n",
              "        vertical-align: middle;\n",
              "    }\n",
              "\n",
              "    .dataframe tbody tr th {\n",
              "        vertical-align: top;\n",
              "    }\n",
              "\n",
              "    .dataframe thead th {\n",
              "        text-align: right;\n",
              "    }\n",
              "</style>\n",
              "<table border=\"1\" class=\"dataframe\">\n",
              "  <thead>\n",
              "    <tr style=\"text-align: right;\">\n",
              "      <th></th>\n",
              "      <th>Cluster</th>\n",
              "      <th>total_trx</th>\n",
              "      <th>Contribution (%)</th>\n",
              "    </tr>\n",
              "  </thead>\n",
              "  <tbody>\n",
              "    <tr>\n",
              "      <th>0</th>\n",
              "      <td>0</td>\n",
              "      <td>223295.260</td>\n",
              "      <td>8.077527</td>\n",
              "    </tr>\n",
              "    <tr>\n",
              "      <th>1</th>\n",
              "      <td>1</td>\n",
              "      <td>872921.991</td>\n",
              "      <td>31.577255</td>\n",
              "    </tr>\n",
              "    <tr>\n",
              "      <th>2</th>\n",
              "      <td>2</td>\n",
              "      <td>945570.950</td>\n",
              "      <td>34.205273</td>\n",
              "    </tr>\n",
              "    <tr>\n",
              "      <th>3</th>\n",
              "      <td>3</td>\n",
              "      <td>722612.930</td>\n",
              "      <td>26.139945</td>\n",
              "    </tr>\n",
              "  </tbody>\n",
              "</table>\n",
              "</div>"
            ],
            "text/plain": [
              "   Cluster   total_trx  Contribution (%)\n",
              "0        0  223295.260          8.077527\n",
              "1        1  872921.991         31.577255\n",
              "2        2  945570.950         34.205273\n",
              "3        3  722612.930         26.139945"
            ]
          },
          "metadata": {
            "tags": []
          },
          "execution_count": 100
        }
      ]
    },
    {
      "cell_type": "markdown",
      "metadata": {
        "id": "xTm8BqzZ_U2N"
      },
      "source": [
        "From \"Customers\" & \"Contribution\" Table, now we can classify our customer based on which cluster they belong. Let's determine what kind of customers is in each cluster.\n",
        "\n",
        "Cluster 0: Low unique product, low spending, not recent trx, low freq, high contribution --> **Seasonal Customer**\n",
        "\n",
        "Cluster 1: Low unique product, low spending, not recent trx, low freq, high contribution --> **Seasonal Customer**\n",
        "\n",
        "Cluster 2: medium unique product, medium spending, recent trx, medium freq, high contribution --> **Loyal Customer**\n",
        "\n",
        "Cluster 3: high unique product, very high spending, recent trx, high freq, low contribution --> **Dropshipper**\n"
      ]
    },
    {
      "cell_type": "markdown",
      "metadata": {
        "id": "Lt9bqAk-_U2N"
      },
      "source": [
        "Let's see what our customer distribution looks like"
      ]
    },
    {
      "cell_type": "code",
      "metadata": {
        "trusted": true,
        "colab": {
          "base_uri": "https://localhost:8080/",
          "height": 386
        },
        "id": "KM2cU7np_U2O",
        "outputId": "6cbe19aa-f849-49d1-cdb3-daeabbe8c2a1"
      },
      "source": [
        "sns.displot(data=cust,x='Cluster')"
      ],
      "execution_count": null,
      "outputs": [
        {
          "output_type": "execute_result",
          "data": {
            "text/plain": [
              "<seaborn.axisgrid.FacetGrid at 0x7ff13d041a10>"
            ]
          },
          "metadata": {
            "tags": []
          },
          "execution_count": 101
        },
        {
          "output_type": "display_data",
          "data": {
            "image/png": "[encoded data removed]",
            "text/plain": [
              "<Figure size 360x360 with 1 Axes>"
            ]
          },
          "metadata": {
            "tags": [],
            "needs_background": "light"
          }
        }
      ]
    },
    {
      "cell_type": "markdown",
      "metadata": {
        "id": "6B92buxk_U2O"
      },
      "source": [
        "From the graph we know that most our customer is from cluster 0 and 1"
      ]
    },
    {
      "cell_type": "markdown",
      "metadata": {
        "id": "qjVvfws7_U2O"
      },
      "source": [
        "# Conclusion\n",
        "\n",
        "From our the insight that we got, we know that:\n",
        "1. Most of our customer are reseller\n",
        "2. From further classification, we know that our best customers are seasonal customer, and our loyal customer are medium spender reseller\n",
        "3. Based on this fact, we want to focus our budget to strengthen our business by targeting those kind of customers.\n",
        "\n",
        "\n",
        "# Proposed Action\n",
        "\n",
        "**Proposed Idea 1:**\n",
        "\n",
        "**Idea:** Make a VIP based membership\n",
        "\n",
        "**Goals:** To reward the customer in cluster 2 with more benefit (discount, free shipping, etc.) so we can keep them, and also become selling point to the customer that outside that cluster\n",
        "\n",
        "**Proposed Idea 2:**\n",
        " \n",
        "**Idea:** Rollout seasonal promotion like seasonal discount, bundle offers, etc.\n",
        "\n",
        "**Goals:** To attract more new customer and to keep the loyal one to keep using our service.\n",
        "\n",
        "**Proposed Idea 3:**\n",
        "\n",
        "**Idea:** Make a seasonal personalization like seasonal/holiday item category, push notification on trending items, etc.\n",
        "\n",
        "**Goals:** To help our customer navigate through our website, so the chance of converting is much higher."
      ]
    }
  ]
}